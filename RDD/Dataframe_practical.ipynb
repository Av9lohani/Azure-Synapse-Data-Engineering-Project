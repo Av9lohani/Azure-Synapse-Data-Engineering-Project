{
  "cells": [
    {
      "cell_type": "code",
      "source": [
        "sc"
      ],
      "outputs": [
        {
          "output_type": "display_data",
          "data": {
            "application/vnd.livy.statement-meta+json": {
              "spark_pool": "testpool",
              "session_id": "20",
              "statement_id": 2,
              "state": "finished",
              "livy_statement_state": "available",
              "queued_time": "2023-05-26T11:11:30.6446988Z",
              "session_start_time": "2023-05-26T11:11:30.7295131Z",
              "execution_start_time": "2023-05-26T11:14:53.106025Z",
              "execution_finish_time": "2023-05-26T11:14:53.2827734Z",
              "spark_jobs": null,
              "parent_msg_id": "41d3b8b2-0a01-4f9c-a69b-2bfbf50fd3e8"
            },
            "text/plain": "StatementMeta(testpool, 20, 2, Finished, Available)"
          },
          "metadata": {}
        },
        {
          "output_type": "execute_result",
          "execution_count": 5,
          "data": {
            "text/plain": "<SparkContext master=yarn appName=Dataframe practical_testpool_1685099490>",
            "text/html": "\n        <div>\n            <p><b>SparkContext</b></p>\n\n            <p><a href=\"http://vm-98770748:44011\">Spark UI</a></p>\n\n            <dl>\n              <dt>Version</dt>\n                <dd><code>v3.3.1.5.2-92046214</code></dd>\n              <dt>Master</dt>\n                <dd><code>yarn</code></dd>\n              <dt>AppName</dt>\n                <dd><code>Dataframe practical_testpool_1685099490</code></dd>\n            </dl>\n        </div>\n        "
          },
          "metadata": {}
        }
      ],
      "execution_count": 1,
      "metadata": {}
    },
    {
      "cell_type": "code",
      "source": [
        "ReadDF = spark.read.format('csv').load('abfss://raw@datalake11212.dfs.core.windows.net/Dataframes/2023-01-15 213417.413947.csv')"
      ],
      "outputs": [
        {
          "output_type": "display_data",
          "data": {
            "application/vnd.livy.statement-meta+json": {
              "spark_pool": "testpool",
              "session_id": "20",
              "statement_id": 4,
              "state": "finished",
              "livy_statement_state": "available",
              "queued_time": "2023-05-26T11:18:37.5212338Z",
              "session_start_time": null,
              "execution_start_time": "2023-05-26T11:18:37.6733631Z",
              "execution_finish_time": "2023-05-26T11:18:54.6767561Z",
              "spark_jobs": null,
              "parent_msg_id": "f3af9504-6a5d-4db0-b52c-96a4a6c18ac4"
            },
            "text/plain": "StatementMeta(testpool, 20, 4, Finished, Available)"
          },
          "metadata": {}
        }
      ],
      "execution_count": 3,
      "metadata": {
        "jupyter": {
          "source_hidden": false,
          "outputs_hidden": false
        },
        "nteract": {
          "transient": {
            "deleting": false
          }
        }
      }
    },
    {
      "cell_type": "code",
      "source": [
        "ReadDF"
      ],
      "outputs": [
        {
          "output_type": "display_data",
          "data": {
            "application/vnd.livy.statement-meta+json": {
              "spark_pool": "testpool",
              "session_id": "20",
              "statement_id": 5,
              "state": "finished",
              "livy_statement_state": "available",
              "queued_time": "2023-05-26T11:19:04.7943155Z",
              "session_start_time": null,
              "execution_start_time": "2023-05-26T11:19:04.9498601Z",
              "execution_finish_time": "2023-05-26T11:19:05.121117Z",
              "spark_jobs": null,
              "parent_msg_id": "54752b53-771b-4071-bd3f-0010ff3d1f47"
            },
            "text/plain": "StatementMeta(testpool, 20, 5, Finished, Available)"
          },
          "metadata": {}
        },
        {
          "output_type": "execute_result",
          "execution_count": 11,
          "data": {
            "text/plain": "DataFrame[_c0: string, _c1: string, _c2: string, _c3: string, _c4: string, _c5: string]"
          },
          "metadata": {}
        }
      ],
      "execution_count": 4,
      "metadata": {
        "jupyter": {
          "source_hidden": false,
          "outputs_hidden": false
        },
        "nteract": {
          "transient": {
            "deleting": false
          }
        }
      }
    },
    {
      "cell_type": "code",
      "source": [
        "ReadDF.show()"
      ],
      "outputs": [
        {
          "output_type": "display_data",
          "data": {
            "application/vnd.livy.statement-meta+json": {
              "spark_pool": "testpool",
              "session_id": "20",
              "statement_id": 6,
              "state": "finished",
              "livy_statement_state": "available",
              "queued_time": "2023-05-26T11:20:09.5353905Z",
              "session_start_time": null,
              "execution_start_time": "2023-05-26T11:20:09.6826584Z",
              "execution_finish_time": "2023-05-26T11:20:10.8071521Z",
              "spark_jobs": null,
              "parent_msg_id": "7736e65a-91c8-445e-a14a-8b08ac0abf2c"
            },
            "text/plain": "StatementMeta(testpool, 20, 6, Finished, Available)"
          },
          "metadata": {}
        },
        {
          "output_type": "stream",
          "name": "stdout",
          "text": [
            "+--------------------+--------------------+-------+----------+---------------+-------+\n|                 _c0|                 _c1|    _c2|       _c3|            _c4|    _c5|\n+--------------------+--------------------+-------+----------+---------------+-------+\n|               Title|               Genre|Runtime|IMDB_Score|       Language|  Views|\n|             The App|Science fiction/D...|     79|       2.6|        Italian| 157606|\n|  Sardar Ka Grandson|              Comedy|    139|       4.1|          Hindi| 192177|\n|       Ghost Stories|    Horror anthology|    144|       4.3|          Hindi| 211760|\n|The Girl on the T...|            Thriller|    120|       4.4|          Hindi|  38552|\n|         After Maria|         Documentary|     37|       4.6|English/Spanish|  48123|\n|       Finding Agnes|               Drama|    105|       4.7|       Filipino| 293732|\n|          Coin Heist|               Heist|     97|       4.8|        English|2791414|\n|            Fearless| Animation/Superhero|     89|       4.9|        English|  41362|\n|        Squared Love|     Romantic comedy|    102|         5|         Polish|   3739|\n|        #REALITYHIGH|              Comedy|     99|       5.2|        English| 440209|\n|    Girlfriend's Day|              Comedy|     70|       5.2|        English|  39134|\n|Still Laugh-In: T...|        Variety show|     60|       5.2|        English| 147717|\n|      Dangerous Lies|            Thriller|     97|       5.3|        English|  27869|\n|                XOXO|               Drama|     92|       5.3|        English| 106463|\n|              Guilty|            Thriller|    119|       5.4|          Hindi| 108836|\n|        Squared Love|     Romantic comedy|    102|         5|         Polish|   3739|\n|A Very Murray Chr...|    Comedy / Musical|     56|       5.5|        English| 117590|\n| Love Wedding Repeat|     Romantic comedy|    100|       5.5|        English| 590595|\n|The Knight Before...|     Romantic comedy|     92|       5.5|        English| 362093|\n+--------------------+--------------------+-------+----------+---------------+-------+\nonly showing top 20 rows\n\n"
          ]
        }
      ],
      "execution_count": 5,
      "metadata": {
        "jupyter": {
          "source_hidden": false,
          "outputs_hidden": false
        },
        "nteract": {
          "transient": {
            "deleting": false
          }
        }
      }
    },
    {
      "cell_type": "code",
      "source": [
        "display(ReadDF)"
      ],
      "outputs": [
        {
          "output_type": "display_data",
          "data": {
            "application/vnd.livy.statement-meta+json": {
              "spark_pool": "testpool",
              "session_id": "20",
              "statement_id": 7,
              "state": "finished",
              "livy_statement_state": "available",
              "queued_time": "2023-05-26T11:20:51.704996Z",
              "session_start_time": null,
              "execution_start_time": "2023-05-26T11:20:51.878397Z",
              "execution_finish_time": "2023-05-26T11:20:53.0448687Z",
              "spark_jobs": null,
              "parent_msg_id": "b9972c4f-8844-40d3-ad41-32e454892f58"
            },
            "text/plain": "StatementMeta(testpool, 20, 7, Finished, Available)"
          },
          "metadata": {}
        },
        {
          "output_type": "display_data",
          "data": {
            "application/vnd.synapse.widget-view+json": {
              "widget_id": "317faf5e-2002-44d6-a71c-b3539452c943",
              "widget_type": "Synapse.DataFrame"
            },
            "text/plain": "SynapseWidget(Synapse.DataFrame, 317faf5e-2002-44d6-a71c-b3539452c943)"
          },
          "metadata": {}
        }
      ],
      "execution_count": 6,
      "metadata": {
        "jupyter": {
          "source_hidden": false,
          "outputs_hidden": false
        },
        "nteract": {
          "transient": {
            "deleting": false
          }
        },
        "collapsed": false
      }
    },
    {
      "cell_type": "code",
      "source": [
        "ReadDF = spark.read.format('csv')\\\r\n",
        "                    .option('header','true')\\\r\n",
        "                    .load('abfss://raw@datalake11212.dfs.core.windows.net/Dataframes/2023-01-15 213417.413947.csv')"
      ],
      "outputs": [
        {
          "output_type": "display_data",
          "data": {
            "application/vnd.livy.statement-meta+json": {
              "spark_pool": "testpool",
              "session_id": "20",
              "statement_id": 8,
              "state": "finished",
              "livy_statement_state": "available",
              "queued_time": "2023-05-26T11:23:16.3221837Z",
              "session_start_time": null,
              "execution_start_time": "2023-05-26T11:23:16.4916631Z",
              "execution_finish_time": "2023-05-26T11:23:17.6257837Z",
              "spark_jobs": null,
              "parent_msg_id": "6955e6f9-6cf7-4e7e-bbcb-70ebc95a92f3"
            },
            "text/plain": "StatementMeta(testpool, 20, 8, Finished, Available)"
          },
          "metadata": {}
        }
      ],
      "execution_count": 7,
      "metadata": {
        "jupyter": {
          "source_hidden": false,
          "outputs_hidden": false
        },
        "nteract": {
          "transient": {
            "deleting": false
          }
        }
      }
    },
    {
      "cell_type": "code",
      "source": [
        "display(ReadDF)"
      ],
      "outputs": [
        {
          "output_type": "display_data",
          "data": {
            "application/vnd.livy.statement-meta+json": {
              "spark_pool": "testpool",
              "session_id": "20",
              "statement_id": 9,
              "state": "finished",
              "livy_statement_state": "available",
              "queued_time": "2023-05-26T11:23:41.0365057Z",
              "session_start_time": null,
              "execution_start_time": "2023-05-26T11:23:41.1839199Z",
              "execution_finish_time": "2023-05-26T11:23:42.1624124Z",
              "spark_jobs": null,
              "parent_msg_id": "ebdc9edb-a442-41c4-8d32-ae6574a0ba98"
            },
            "text/plain": "StatementMeta(testpool, 20, 9, Finished, Available)"
          },
          "metadata": {}
        },
        {
          "output_type": "display_data",
          "data": {
            "application/vnd.synapse.widget-view+json": {
              "widget_id": "f77a06e0-0ce2-4809-8a01-9de6506170cf",
              "widget_type": "Synapse.DataFrame"
            },
            "text/plain": "SynapseWidget(Synapse.DataFrame, f77a06e0-0ce2-4809-8a01-9de6506170cf)"
          },
          "metadata": {}
        }
      ],
      "execution_count": 8,
      "metadata": {
        "jupyter": {
          "source_hidden": false,
          "outputs_hidden": false
        },
        "nteract": {
          "transient": {
            "deleting": false
          }
        },
        "collapsed": false
      }
    },
    {
      "cell_type": "code",
      "source": [
        "ReadDF.printSchema()"
      ],
      "outputs": [
        {
          "output_type": "display_data",
          "data": {
            "application/vnd.livy.statement-meta+json": {
              "spark_pool": "testpool",
              "session_id": "20",
              "statement_id": 10,
              "state": "finished",
              "livy_statement_state": "available",
              "queued_time": "2023-05-26T11:24:24.2928998Z",
              "session_start_time": null,
              "execution_start_time": "2023-05-26T11:24:24.4744791Z",
              "execution_finish_time": "2023-05-26T11:24:24.6367127Z",
              "spark_jobs": null,
              "parent_msg_id": "aca3ce79-e922-4f70-b419-31aaa7b0587d"
            },
            "text/plain": "StatementMeta(testpool, 20, 10, Finished, Available)"
          },
          "metadata": {}
        },
        {
          "output_type": "stream",
          "name": "stdout",
          "text": [
            "root\n |-- Title: string (nullable = true)\n |-- Genre: string (nullable = true)\n |-- Runtime: string (nullable = true)\n |-- IMDB_Score: string (nullable = true)\n |-- Language: string (nullable = true)\n |-- Views: string (nullable = true)\n\n"
          ]
        }
      ],
      "execution_count": 9,
      "metadata": {
        "jupyter": {
          "source_hidden": false,
          "outputs_hidden": false
        },
        "nteract": {
          "transient": {
            "deleting": false
          }
        }
      }
    },
    {
      "cell_type": "code",
      "source": [
        "ReadDF1 = spark.read.format('csv')\\\r\n",
        "                    .option('header','true')\\\r\n",
        "                    .option('inferSchema','true')\\\r\n",
        "                    .load('abfss://raw@datalake11212.dfs.core.windows.net/Dataframes/2023-01-15 213417.413947.csv')"
      ],
      "outputs": [
        {
          "output_type": "display_data",
          "data": {
            "application/vnd.livy.statement-meta+json": {
              "spark_pool": "testpool",
              "session_id": "20",
              "statement_id": 11,
              "state": "finished",
              "livy_statement_state": "available",
              "queued_time": "2023-05-26T11:25:47.943633Z",
              "session_start_time": null,
              "execution_start_time": "2023-05-26T11:25:48.7064358Z",
              "execution_finish_time": "2023-05-26T11:25:52.738831Z",
              "spark_jobs": null,
              "parent_msg_id": "f7628cfa-1987-497f-92e3-da7ec8b76b92"
            },
            "text/plain": "StatementMeta(testpool, 20, 11, Finished, Available)"
          },
          "metadata": {}
        }
      ],
      "execution_count": 10,
      "metadata": {
        "jupyter": {
          "source_hidden": false,
          "outputs_hidden": false
        },
        "nteract": {
          "transient": {
            "deleting": false
          }
        }
      }
    },
    {
      "cell_type": "code",
      "source": [
        "ReadDF1.printSchema()"
      ],
      "outputs": [
        {
          "output_type": "display_data",
          "data": {
            "application/vnd.livy.statement-meta+json": {
              "spark_pool": "testpool",
              "session_id": "20",
              "statement_id": 12,
              "state": "finished",
              "livy_statement_state": "available",
              "queued_time": "2023-05-26T11:26:07.3334346Z",
              "session_start_time": null,
              "execution_start_time": "2023-05-26T11:26:07.5106535Z",
              "execution_finish_time": "2023-05-26T11:26:07.6732296Z",
              "spark_jobs": null,
              "parent_msg_id": "1ae3b923-5930-4652-a34e-5ddbdbaf3000"
            },
            "text/plain": "StatementMeta(testpool, 20, 12, Finished, Available)"
          },
          "metadata": {}
        },
        {
          "output_type": "stream",
          "name": "stdout",
          "text": [
            "root\n |-- Title: string (nullable = true)\n |-- Genre: string (nullable = true)\n |-- Runtime: integer (nullable = true)\n |-- IMDB_Score: double (nullable = true)\n |-- Language: string (nullable = true)\n |-- Views: integer (nullable = true)\n\n"
          ]
        }
      ],
      "execution_count": 11,
      "metadata": {
        "jupyter": {
          "source_hidden": false,
          "outputs_hidden": false
        },
        "nteract": {
          "transient": {
            "deleting": false
          }
        }
      }
    },
    {
      "cell_type": "code",
      "source": [
        "ReadJSON = spark.read.format('json')\\\r\n",
        "                    .load('abfss://raw@datalake11212.dfs.core.windows.net/Dataframes/2023-01-15 213417.413947.json')"
      ],
      "outputs": [
        {
          "output_type": "display_data",
          "data": {
            "application/vnd.livy.statement-meta+json": {
              "spark_pool": "testpool",
              "session_id": "20",
              "statement_id": 17,
              "state": "finished",
              "livy_statement_state": "available",
              "queued_time": "2023-05-26T11:29:10.1523122Z",
              "session_start_time": null,
              "execution_start_time": "2023-05-26T11:29:10.2980084Z",
              "execution_finish_time": "2023-05-26T11:29:10.8876933Z",
              "spark_jobs": null,
              "parent_msg_id": "df8ffd83-c16f-4ad8-8d18-8002d1774454"
            },
            "text/plain": "StatementMeta(testpool, 20, 17, Finished, Available)"
          },
          "metadata": {}
        }
      ],
      "execution_count": 16,
      "metadata": {
        "jupyter": {
          "source_hidden": false,
          "outputs_hidden": false
        },
        "nteract": {
          "transient": {
            "deleting": false
          }
        }
      }
    },
    {
      "cell_type": "code",
      "source": [
        "display(ReadJSON)"
      ],
      "outputs": [
        {
          "output_type": "display_data",
          "data": {
            "application/vnd.livy.statement-meta+json": {
              "spark_pool": "testpool",
              "session_id": "20",
              "statement_id": 18,
              "state": "finished",
              "livy_statement_state": "available",
              "queued_time": "2023-05-26T11:29:15.000599Z",
              "session_start_time": null,
              "execution_start_time": "2023-05-26T11:29:15.1584143Z",
              "execution_finish_time": "2023-05-26T11:29:16.310891Z",
              "spark_jobs": null,
              "parent_msg_id": "c22ba2c2-5623-4fa3-8d19-89f5339ad4df"
            },
            "text/plain": "StatementMeta(testpool, 20, 18, Finished, Available)"
          },
          "metadata": {}
        },
        {
          "output_type": "display_data",
          "data": {
            "application/vnd.synapse.widget-view+json": {
              "widget_id": "10ad543e-cafc-4ba8-a9ff-6a2282dd56e5",
              "widget_type": "Synapse.DataFrame"
            },
            "text/plain": "SynapseWidget(Synapse.DataFrame, 10ad543e-cafc-4ba8-a9ff-6a2282dd56e5)"
          },
          "metadata": {}
        }
      ],
      "execution_count": 17,
      "metadata": {
        "jupyter": {
          "source_hidden": false,
          "outputs_hidden": false
        },
        "nteract": {
          "transient": {
            "deleting": false
          }
        },
        "collapsed": false
      }
    },
    {
      "cell_type": "code",
      "source": [
        "ReadJSON.printSchema()"
      ],
      "outputs": [
        {
          "output_type": "display_data",
          "data": {
            "application/vnd.livy.statement-meta+json": {
              "spark_pool": "testpool",
              "session_id": "20",
              "statement_id": 19,
              "state": "finished",
              "livy_statement_state": "available",
              "queued_time": "2023-05-26T11:29:44.2285204Z",
              "session_start_time": null,
              "execution_start_time": "2023-05-26T11:29:44.3765434Z",
              "execution_finish_time": "2023-05-26T11:29:44.5433256Z",
              "spark_jobs": null,
              "parent_msg_id": "ae96266d-7766-4ca0-ba66-421a49e144e2"
            },
            "text/plain": "StatementMeta(testpool, 20, 19, Finished, Available)"
          },
          "metadata": {}
        },
        {
          "output_type": "stream",
          "name": "stdout",
          "text": [
            "root\n |-- Genre: string (nullable = true)\n |-- IMDB_Score: double (nullable = true)\n |-- Language: string (nullable = true)\n |-- Runtime: long (nullable = true)\n |-- Title: string (nullable = true)\n |-- Views: long (nullable = true)\n\n"
          ]
        }
      ],
      "execution_count": 18,
      "metadata": {
        "jupyter": {
          "source_hidden": false,
          "outputs_hidden": false
        },
        "nteract": {
          "transient": {
            "deleting": false
          }
        }
      }
    },
    {
      "cell_type": "code",
      "source": [
        "ReadParquet = spark.read.format('parquet')\\\r\n",
        "                    .load('abfss://raw@datalake11212.dfs.core.windows.net/Dataframes/2023-01-15 213417.413947.parquet')"
      ],
      "outputs": [
        {
          "output_type": "display_data",
          "data": {
            "application/vnd.livy.statement-meta+json": {
              "spark_pool": "testpool",
              "session_id": "20",
              "statement_id": 20,
              "state": "finished",
              "livy_statement_state": "available",
              "queued_time": "2023-05-26T11:31:30.6373935Z",
              "session_start_time": null,
              "execution_start_time": "2023-05-26T11:31:30.7999924Z",
              "execution_finish_time": "2023-05-26T11:31:33.6312439Z",
              "spark_jobs": null,
              "parent_msg_id": "b8e78f46-3aa1-457f-8c02-cc85391894fa"
            },
            "text/plain": "StatementMeta(testpool, 20, 20, Finished, Available)"
          },
          "metadata": {}
        }
      ],
      "execution_count": 19,
      "metadata": {
        "jupyter": {
          "source_hidden": false,
          "outputs_hidden": false
        },
        "nteract": {
          "transient": {
            "deleting": false
          }
        }
      }
    },
    {
      "cell_type": "code",
      "source": [
        "display(ReadParquet)"
      ],
      "outputs": [
        {
          "output_type": "display_data",
          "data": {
            "application/vnd.livy.statement-meta+json": {
              "spark_pool": "testpool",
              "session_id": "20",
              "statement_id": 21,
              "state": "finished",
              "livy_statement_state": "available",
              "queued_time": "2023-05-26T11:31:43.7862414Z",
              "session_start_time": null,
              "execution_start_time": "2023-05-26T11:31:43.9486353Z",
              "execution_finish_time": "2023-05-26T11:31:48.0007097Z",
              "spark_jobs": null,
              "parent_msg_id": "db85c1c3-91db-488c-8cc1-369bd15cc6ff"
            },
            "text/plain": "StatementMeta(testpool, 20, 21, Finished, Available)"
          },
          "metadata": {}
        },
        {
          "output_type": "display_data",
          "data": {
            "application/vnd.synapse.widget-view+json": {
              "widget_id": "11f1671b-5bc2-4694-8ff6-e0b738205e61",
              "widget_type": "Synapse.DataFrame"
            },
            "text/plain": "SynapseWidget(Synapse.DataFrame, 11f1671b-5bc2-4694-8ff6-e0b738205e61)"
          },
          "metadata": {}
        }
      ],
      "execution_count": 20,
      "metadata": {
        "jupyter": {
          "source_hidden": false,
          "outputs_hidden": false
        },
        "nteract": {
          "transient": {
            "deleting": false
          }
        },
        "collapsed": false
      }
    },
    {
      "cell_type": "code",
      "source": [
        "ReadParquet.printSchema()"
      ],
      "outputs": [
        {
          "output_type": "display_data",
          "data": {
            "application/vnd.livy.statement-meta+json": {
              "spark_pool": "testpool",
              "session_id": "20",
              "statement_id": 22,
              "state": "finished",
              "livy_statement_state": "available",
              "queued_time": "2023-05-26T11:32:15.6101807Z",
              "session_start_time": null,
              "execution_start_time": "2023-05-26T11:32:15.7538144Z",
              "execution_finish_time": "2023-05-26T11:32:15.9575206Z",
              "spark_jobs": null,
              "parent_msg_id": "bc1da3b7-6670-44b6-a374-bcf76d017d5f"
            },
            "text/plain": "StatementMeta(testpool, 20, 22, Finished, Available)"
          },
          "metadata": {}
        },
        {
          "output_type": "stream",
          "name": "stdout",
          "text": [
            "root\n |-- Title: string (nullable = true)\n |-- Genre: string (nullable = true)\n |-- Runtime: integer (nullable = true)\n |-- IMDB_Score: double (nullable = true)\n |-- Language: string (nullable = true)\n |-- Views: integer (nullable = true)\n\n"
          ]
        }
      ],
      "execution_count": 21,
      "metadata": {
        "jupyter": {
          "source_hidden": false,
          "outputs_hidden": false
        },
        "nteract": {
          "transient": {
            "deleting": false
          }
        }
      }
    }
  ],
  "metadata": {
    "language_info": {
      "name": "python"
    },
    "kernelspec": {
      "name": "synapse_pyspark",
      "language": "Python",
      "display_name": "Synapse PySpark"
    },
    "kernel_info": {
      "name": "synapse_pyspark"
    },
    "save_output": true,
    "synapse_widget": {
      "version": "0.1",
      "state": {
        "317faf5e-2002-44d6-a71c-b3539452c943": {
          "type": "Synapse.DataFrame",
          "sync_state": {
            "table": {
              "rows": [
                {
                  "0": "Title",
                  "1": "Genre",
                  "2": "Runtime",
                  "3": "IMDB_Score",
                  "4": "Language",
                  "5": "Views"
                },
                {
                  "0": "The App",
                  "1": "Science fiction/Drama",
                  "2": "79",
                  "3": "2.6",
                  "4": "Italian",
                  "5": "157606"
                },
                {
                  "0": "Sardar Ka Grandson",
                  "1": "Comedy",
                  "2": "139",
                  "3": "4.1",
                  "4": "Hindi",
                  "5": "192177"
                },
                {
                  "0": "Ghost Stories",
                  "1": "Horror anthology",
                  "2": "144",
                  "3": "4.3",
                  "4": "Hindi",
                  "5": "211760"
                },
                {
                  "0": "The Girl on the Train",
                  "1": "Thriller",
                  "2": "120",
                  "3": "4.4",
                  "4": "Hindi",
                  "5": "38552"
                },
                {
                  "0": "After Maria",
                  "1": "Documentary",
                  "2": "37",
                  "3": "4.6",
                  "4": "English/Spanish",
                  "5": "48123"
                },
                {
                  "0": "Finding Agnes",
                  "1": "Drama",
                  "2": "105",
                  "3": "4.7",
                  "4": "Filipino",
                  "5": "293732"
                },
                {
                  "0": "Coin Heist",
                  "1": "Heist",
                  "2": "97",
                  "3": "4.8",
                  "4": "English",
                  "5": "2791414"
                },
                {
                  "0": "Fearless",
                  "1": "Animation/Superhero",
                  "2": "89",
                  "3": "4.9",
                  "4": "English",
                  "5": "41362"
                },
                {
                  "0": "Squared Love",
                  "1": "Romantic comedy",
                  "2": "102",
                  "3": "5",
                  "4": "Polish",
                  "5": "3739"
                },
                {
                  "0": "#REALITYHIGH",
                  "1": "Comedy",
                  "2": "99",
                  "3": "5.2",
                  "4": "English",
                  "5": "440209"
                },
                {
                  "0": "Girlfriend's Day",
                  "1": "Comedy",
                  "2": "70",
                  "3": "5.2",
                  "4": "English",
                  "5": "39134"
                },
                {
                  "0": "Still Laugh-In: The Stars Celebrate",
                  "1": "Variety show",
                  "2": "60",
                  "3": "5.2",
                  "4": "English",
                  "5": "147717"
                },
                {
                  "0": "Dangerous Lies",
                  "1": "Thriller",
                  "2": "97",
                  "3": "5.3",
                  "4": "English",
                  "5": "27869"
                },
                {
                  "0": "XOXO",
                  "1": "Drama",
                  "2": "92",
                  "3": "5.3",
                  "4": "English",
                  "5": "106463"
                },
                {
                  "0": "Guilty",
                  "1": "Thriller",
                  "2": "119",
                  "3": "5.4",
                  "4": "Hindi",
                  "5": "108836"
                },
                {
                  "0": "Squared Love",
                  "1": "Romantic comedy",
                  "2": "102",
                  "3": "5",
                  "4": "Polish",
                  "5": "3739"
                },
                {
                  "0": "A Very Murray Christmas",
                  "1": "Comedy / Musical",
                  "2": "56",
                  "3": "5.5",
                  "4": "English",
                  "5": "117590"
                },
                {
                  "0": "Love Wedding Repeat",
                  "1": "Romantic comedy",
                  "2": "100",
                  "3": "5.5",
                  "4": "English",
                  "5": "590595"
                },
                {
                  "0": "The Knight Before Christmas",
                  "1": "Romantic comedy",
                  "2": "92",
                  "3": "5.5",
                  "4": "English",
                  "5": "362093"
                },
                {
                  "0": "Wine Country",
                  "1": "Comedy",
                  "2": "103",
                  "3": "5.5",
                  "4": "English",
                  "5": "198243"
                },
                {
                  "0": "Hold the Dark",
                  "1": "Thriller",
                  "2": "125",
                  "3": "5.6",
                  "4": "English",
                  "5": "50953"
                },
                {
                  "0": "The Midnight Sky",
                  "1": "Science fiction",
                  "2": "118",
                  "3": "5.6",
                  "4": "English",
                  "5": "660286"
                },
                {
                  "0": "A Week Away",
                  "1": "Christian musical",
                  "2": "97",
                  "3": "5.7",
                  "4": "English",
                  "5": "34184"
                },
                {
                  "0": "Ginny Weds Sunny",
                  "1": "Romantic comedy",
                  "2": "125",
                  "3": "5.7",
                  "4": "Hindi",
                  "5": "410249"
                },
                {
                  "0": "Out of Many, One",
                  "1": "Documentary",
                  "2": "34",
                  "3": "5.7",
                  "4": "English",
                  "5": "4299"
                },
                {
                  "0": "The Holiday Calendar",
                  "1": "Romantic comedy",
                  "2": "95",
                  "3": "5.7",
                  "4": "English",
                  "5": "400519"
                },
                {
                  "0": "45153",
                  "1": "Comedy-drama",
                  "2": "124",
                  "3": "5.8",
                  "4": "Marathi",
                  "5": "6946"
                },
                {
                  "0": "Barry",
                  "1": "Biopic",
                  "2": "104",
                  "3": "5.8",
                  "4": "English",
                  "5": "156567"
                },
                {
                  "0": "Extinction",
                  "1": "Science fiction/Thriller",
                  "2": "95",
                  "3": "5.8",
                  "4": "English",
                  "5": "332476"
                },
                {
                  "0": "Mascots",
                  "1": "Mockumentary",
                  "2": "95",
                  "3": "5.8",
                  "4": "English",
                  "5": "451894"
                },
                {
                  "0": "Rising High",
                  "1": "Satire",
                  "2": "94",
                  "3": "5.8",
                  "4": "German",
                  "5": "137203"
                },
                {
                  "0": "TAU",
                  "1": "Science fiction/Thriller",
                  "2": "97",
                  "3": "5.8",
                  "4": "English",
                  "5": "1176"
                },
                {
                  "0": "The Perfect Date",
                  "1": "Romantic comedy",
                  "2": "89",
                  "3": "5.8",
                  "4": "English",
                  "5": "461509"
                },
                {
                  "0": "A Fall from Grace",
                  "1": "Thriller",
                  "2": "120",
                  "3": "5.9",
                  "4": "English",
                  "5": "268282"
                },
                {
                  "0": "Frankenstein's Monster's Monster, Frankenstein",
                  "1": "Mockumentary",
                  "2": "32",
                  "3": "5.9",
                  "4": "English",
                  "5": "459304"
                },
                {
                  "0": "The Prom",
                  "1": "Musical",
                  "2": "132",
                  "3": "5.9",
                  "4": "English",
                  "5": "70504"
                },
                {
                  "0": "Come Sunday",
                  "1": "Biopic",
                  "2": "106",
                  "3": "6",
                  "4": "English",
                  "5": "26089"
                },
                {
                  "0": "Juanita",
                  "1": "Drama",
                  "2": "90",
                  "3": "6",
                  "4": "English",
                  "5": "114290"
                },
                {
                  "0": "The Kissing Booth",
                  "1": "Romantic comedy",
                  "2": "105",
                  "3": "6",
                  "4": "English",
                  "5": "542362"
                },
                {
                  "0": "War Machine",
                  "1": "War-Comedy",
                  "2": "122",
                  "3": "6",
                  "4": "English",
                  "5": "456749"
                },
                {
                  "0": "Deidra & Laney Rob a Train",
                  "1": "Drama",
                  "2": "94",
                  "3": "6.1",
                  "4": "English",
                  "5": "334867"
                }
              ],
              "schema": [
                {
                  "key": "0",
                  "name": "_c0",
                  "type": "string"
                },
                {
                  "key": "1",
                  "name": "_c1",
                  "type": "string"
                },
                {
                  "key": "2",
                  "name": "_c2",
                  "type": "string"
                },
                {
                  "key": "3",
                  "name": "_c3",
                  "type": "string"
                },
                {
                  "key": "4",
                  "name": "_c4",
                  "type": "string"
                },
                {
                  "key": "5",
                  "name": "_c5",
                  "type": "string"
                }
              ],
              "truncated": false
            },
            "isSummary": false,
            "language": "scala"
          },
          "persist_state": {
            "view": {
              "type": "details",
              "tableOptions": {},
              "chartOptions": {
                "chartType": "bar",
                "aggregationType": "count",
                "categoryFieldKeys": [
                  "0"
                ],
                "seriesFieldKeys": [
                  "0"
                ],
                "isStacked": false
              }
            }
          }
        },
        "f77a06e0-0ce2-4809-8a01-9de6506170cf": {
          "type": "Synapse.DataFrame",
          "sync_state": {
            "table": {
              "rows": [
                {
                  "0": "The App",
                  "1": "Science fiction/Drama",
                  "2": "79",
                  "3": "2.6",
                  "4": "Italian",
                  "5": "157606"
                },
                {
                  "0": "Sardar Ka Grandson",
                  "1": "Comedy",
                  "2": "139",
                  "3": "4.1",
                  "4": "Hindi",
                  "5": "192177"
                },
                {
                  "0": "Ghost Stories",
                  "1": "Horror anthology",
                  "2": "144",
                  "3": "4.3",
                  "4": "Hindi",
                  "5": "211760"
                },
                {
                  "0": "The Girl on the Train",
                  "1": "Thriller",
                  "2": "120",
                  "3": "4.4",
                  "4": "Hindi",
                  "5": "38552"
                },
                {
                  "0": "After Maria",
                  "1": "Documentary",
                  "2": "37",
                  "3": "4.6",
                  "4": "English/Spanish",
                  "5": "48123"
                },
                {
                  "0": "Finding Agnes",
                  "1": "Drama",
                  "2": "105",
                  "3": "4.7",
                  "4": "Filipino",
                  "5": "293732"
                },
                {
                  "0": "Coin Heist",
                  "1": "Heist",
                  "2": "97",
                  "3": "4.8",
                  "4": "English",
                  "5": "2791414"
                },
                {
                  "0": "Fearless",
                  "1": "Animation/Superhero",
                  "2": "89",
                  "3": "4.9",
                  "4": "English",
                  "5": "41362"
                },
                {
                  "0": "Squared Love",
                  "1": "Romantic comedy",
                  "2": "102",
                  "3": "5",
                  "4": "Polish",
                  "5": "3739"
                },
                {
                  "0": "#REALITYHIGH",
                  "1": "Comedy",
                  "2": "99",
                  "3": "5.2",
                  "4": "English",
                  "5": "440209"
                },
                {
                  "0": "Girlfriend's Day",
                  "1": "Comedy",
                  "2": "70",
                  "3": "5.2",
                  "4": "English",
                  "5": "39134"
                },
                {
                  "0": "Still Laugh-In: The Stars Celebrate",
                  "1": "Variety show",
                  "2": "60",
                  "3": "5.2",
                  "4": "English",
                  "5": "147717"
                },
                {
                  "0": "Dangerous Lies",
                  "1": "Thriller",
                  "2": "97",
                  "3": "5.3",
                  "4": "English",
                  "5": "27869"
                },
                {
                  "0": "XOXO",
                  "1": "Drama",
                  "2": "92",
                  "3": "5.3",
                  "4": "English",
                  "5": "106463"
                },
                {
                  "0": "Guilty",
                  "1": "Thriller",
                  "2": "119",
                  "3": "5.4",
                  "4": "Hindi",
                  "5": "108836"
                },
                {
                  "0": "Squared Love",
                  "1": "Romantic comedy",
                  "2": "102",
                  "3": "5",
                  "4": "Polish",
                  "5": "3739"
                },
                {
                  "0": "A Very Murray Christmas",
                  "1": "Comedy / Musical",
                  "2": "56",
                  "3": "5.5",
                  "4": "English",
                  "5": "117590"
                },
                {
                  "0": "Love Wedding Repeat",
                  "1": "Romantic comedy",
                  "2": "100",
                  "3": "5.5",
                  "4": "English",
                  "5": "590595"
                },
                {
                  "0": "The Knight Before Christmas",
                  "1": "Romantic comedy",
                  "2": "92",
                  "3": "5.5",
                  "4": "English",
                  "5": "362093"
                },
                {
                  "0": "Wine Country",
                  "1": "Comedy",
                  "2": "103",
                  "3": "5.5",
                  "4": "English",
                  "5": "198243"
                },
                {
                  "0": "Hold the Dark",
                  "1": "Thriller",
                  "2": "125",
                  "3": "5.6",
                  "4": "English",
                  "5": "50953"
                },
                {
                  "0": "The Midnight Sky",
                  "1": "Science fiction",
                  "2": "118",
                  "3": "5.6",
                  "4": "English",
                  "5": "660286"
                },
                {
                  "0": "A Week Away",
                  "1": "Christian musical",
                  "2": "97",
                  "3": "5.7",
                  "4": "English",
                  "5": "34184"
                },
                {
                  "0": "Ginny Weds Sunny",
                  "1": "Romantic comedy",
                  "2": "125",
                  "3": "5.7",
                  "4": "Hindi",
                  "5": "410249"
                },
                {
                  "0": "Out of Many, One",
                  "1": "Documentary",
                  "2": "34",
                  "3": "5.7",
                  "4": "English",
                  "5": "4299"
                },
                {
                  "0": "The Holiday Calendar",
                  "1": "Romantic comedy",
                  "2": "95",
                  "3": "5.7",
                  "4": "English",
                  "5": "400519"
                },
                {
                  "0": "45153",
                  "1": "Comedy-drama",
                  "2": "124",
                  "3": "5.8",
                  "4": "Marathi",
                  "5": "6946"
                },
                {
                  "0": "Barry",
                  "1": "Biopic",
                  "2": "104",
                  "3": "5.8",
                  "4": "English",
                  "5": "156567"
                },
                {
                  "0": "Extinction",
                  "1": "Science fiction/Thriller",
                  "2": "95",
                  "3": "5.8",
                  "4": "English",
                  "5": "332476"
                },
                {
                  "0": "Mascots",
                  "1": "Mockumentary",
                  "2": "95",
                  "3": "5.8",
                  "4": "English",
                  "5": "451894"
                },
                {
                  "0": "Rising High",
                  "1": "Satire",
                  "2": "94",
                  "3": "5.8",
                  "4": "German",
                  "5": "137203"
                },
                {
                  "0": "TAU",
                  "1": "Science fiction/Thriller",
                  "2": "97",
                  "3": "5.8",
                  "4": "English",
                  "5": "1176"
                },
                {
                  "0": "The Perfect Date",
                  "1": "Romantic comedy",
                  "2": "89",
                  "3": "5.8",
                  "4": "English",
                  "5": "461509"
                },
                {
                  "0": "A Fall from Grace",
                  "1": "Thriller",
                  "2": "120",
                  "3": "5.9",
                  "4": "English",
                  "5": "268282"
                },
                {
                  "0": "Frankenstein's Monster's Monster, Frankenstein",
                  "1": "Mockumentary",
                  "2": "32",
                  "3": "5.9",
                  "4": "English",
                  "5": "459304"
                },
                {
                  "0": "The Prom",
                  "1": "Musical",
                  "2": "132",
                  "3": "5.9",
                  "4": "English",
                  "5": "70504"
                },
                {
                  "0": "Come Sunday",
                  "1": "Biopic",
                  "2": "106",
                  "3": "6",
                  "4": "English",
                  "5": "26089"
                },
                {
                  "0": "Juanita",
                  "1": "Drama",
                  "2": "90",
                  "3": "6",
                  "4": "English",
                  "5": "114290"
                },
                {
                  "0": "The Kissing Booth",
                  "1": "Romantic comedy",
                  "2": "105",
                  "3": "6",
                  "4": "English",
                  "5": "542362"
                },
                {
                  "0": "War Machine",
                  "1": "War-Comedy",
                  "2": "122",
                  "3": "6",
                  "4": "English",
                  "5": "456749"
                },
                {
                  "0": "Deidra & Laney Rob a Train",
                  "1": "Drama",
                  "2": "94",
                  "3": "6.1",
                  "4": "English",
                  "5": "334867"
                }
              ],
              "schema": [
                {
                  "key": "0",
                  "name": "Title",
                  "type": "string"
                },
                {
                  "key": "1",
                  "name": "Genre",
                  "type": "string"
                },
                {
                  "key": "2",
                  "name": "Runtime",
                  "type": "string"
                },
                {
                  "key": "3",
                  "name": "IMDB_Score",
                  "type": "string"
                },
                {
                  "key": "4",
                  "name": "Language",
                  "type": "string"
                },
                {
                  "key": "5",
                  "name": "Views",
                  "type": "string"
                }
              ],
              "truncated": false
            },
            "isSummary": false,
            "language": "scala"
          },
          "persist_state": {
            "view": {
              "type": "details",
              "tableOptions": {},
              "chartOptions": {
                "chartType": "bar",
                "aggregationType": "count",
                "categoryFieldKeys": [
                  "0"
                ],
                "seriesFieldKeys": [
                  "0"
                ],
                "isStacked": false
              }
            }
          }
        },
        "10ad543e-cafc-4ba8-a9ff-6a2282dd56e5": {
          "type": "Synapse.DataFrame",
          "sync_state": {
            "table": {
              "rows": [
                {
                  "0": "Science fiction/Drama",
                  "1": "2.6",
                  "2": "Italian",
                  "3": "79",
                  "4": "The App",
                  "5": "157606"
                },
                {
                  "0": "Comedy",
                  "1": "4.1",
                  "2": "Hindi",
                  "3": "139",
                  "4": "Sardar Ka Grandson",
                  "5": "192177"
                },
                {
                  "0": "Horror anthology",
                  "1": "4.3",
                  "2": "Hindi",
                  "3": "144",
                  "4": "Ghost Stories",
                  "5": "211760"
                },
                {
                  "0": "Thriller",
                  "1": "4.4",
                  "2": "Hindi",
                  "3": "120",
                  "4": "The Girl on the Train",
                  "5": "38552"
                },
                {
                  "0": "Documentary",
                  "1": "4.6",
                  "2": "English/Spanish",
                  "3": "37",
                  "4": "After Maria",
                  "5": "48123"
                },
                {
                  "0": "Drama",
                  "1": "4.7",
                  "2": "Filipino",
                  "3": "105",
                  "4": "Finding Agnes",
                  "5": "293732"
                },
                {
                  "0": "Heist",
                  "1": "4.8",
                  "2": "English",
                  "3": "97",
                  "4": "Coin Heist",
                  "5": "2791414"
                },
                {
                  "0": "Animation/Superhero",
                  "1": "4.9",
                  "2": "English",
                  "3": "89",
                  "4": "Fearless",
                  "5": "41362"
                },
                {
                  "0": "Romantic comedy",
                  "1": "5.0",
                  "2": "Polish",
                  "3": "102",
                  "4": "Squared Love",
                  "5": "3739"
                },
                {
                  "0": "Comedy",
                  "1": "5.2",
                  "2": "English",
                  "3": "99",
                  "4": "#REALITYHIGH",
                  "5": "440209"
                },
                {
                  "0": "Comedy",
                  "1": "5.2",
                  "2": "English",
                  "3": "70",
                  "4": "Girlfriend's Day",
                  "5": "39134"
                },
                {
                  "0": "Variety show",
                  "1": "5.2",
                  "2": "English",
                  "3": "60",
                  "4": "Still Laugh-In: The Stars Celebrate",
                  "5": "147717"
                },
                {
                  "0": "Thriller",
                  "1": "5.3",
                  "2": "English",
                  "3": "97",
                  "4": "Dangerous Lies",
                  "5": "27869"
                },
                {
                  "0": "Drama",
                  "1": "5.3",
                  "2": "English",
                  "3": "92",
                  "4": "XOXO",
                  "5": "106463"
                },
                {
                  "0": "Thriller",
                  "1": "5.4",
                  "2": "Hindi",
                  "3": "119",
                  "4": "Guilty",
                  "5": "108836"
                },
                {
                  "0": "Romantic comedy",
                  "1": "5.0",
                  "2": "Polish",
                  "3": "102",
                  "4": "Squared Love",
                  "5": "3739"
                },
                {
                  "0": "Comedy / Musical",
                  "1": "5.5",
                  "2": "English",
                  "3": "56",
                  "4": "A Very Murray Christmas",
                  "5": "117590"
                },
                {
                  "0": "Romantic comedy",
                  "1": "5.5",
                  "2": "English",
                  "3": "100",
                  "4": "Love Wedding Repeat",
                  "5": "590595"
                },
                {
                  "0": "Romantic comedy",
                  "1": "5.5",
                  "2": "English",
                  "3": "92",
                  "4": "The Knight Before Christmas",
                  "5": "362093"
                },
                {
                  "0": "Comedy",
                  "1": "5.5",
                  "2": "English",
                  "3": "103",
                  "4": "Wine Country",
                  "5": "198243"
                },
                {
                  "0": "Thriller",
                  "1": "5.6",
                  "2": "English",
                  "3": "125",
                  "4": "Hold the Dark",
                  "5": "50953"
                },
                {
                  "0": "Science fiction",
                  "1": "5.6",
                  "2": "English",
                  "3": "118",
                  "4": "The Midnight Sky",
                  "5": "660286"
                },
                {
                  "0": "Christian musical",
                  "1": "5.7",
                  "2": "English",
                  "3": "97",
                  "4": "A Week Away",
                  "5": "34184"
                },
                {
                  "0": "Romantic comedy",
                  "1": "5.7",
                  "2": "Hindi",
                  "3": "125",
                  "4": "Ginny Weds Sunny",
                  "5": "410249"
                },
                {
                  "0": "Documentary",
                  "1": "5.7",
                  "2": "English",
                  "3": "34",
                  "4": "Out of Many, One",
                  "5": "4299"
                },
                {
                  "0": "Romantic comedy",
                  "1": "5.7",
                  "2": "English",
                  "3": "95",
                  "4": "The Holiday Calendar",
                  "5": "400519"
                },
                {
                  "0": "Comedy-drama",
                  "1": "5.8",
                  "2": "Marathi",
                  "3": "124",
                  "4": "45153",
                  "5": "6946"
                },
                {
                  "0": "Biopic",
                  "1": "5.8",
                  "2": "English",
                  "3": "104",
                  "4": "Barry",
                  "5": "156567"
                },
                {
                  "0": "Science fiction/Thriller",
                  "1": "5.8",
                  "2": "English",
                  "3": "95",
                  "4": "Extinction",
                  "5": "332476"
                },
                {
                  "0": "Mockumentary",
                  "1": "5.8",
                  "2": "English",
                  "3": "95",
                  "4": "Mascots",
                  "5": "451894"
                },
                {
                  "0": "Satire",
                  "1": "5.8",
                  "2": "German",
                  "3": "94",
                  "4": "Rising High",
                  "5": "137203"
                },
                {
                  "0": "Science fiction/Thriller",
                  "1": "5.8",
                  "2": "English",
                  "3": "97",
                  "4": "TAU",
                  "5": "1176"
                },
                {
                  "0": "Romantic comedy",
                  "1": "5.8",
                  "2": "English",
                  "3": "89",
                  "4": "The Perfect Date",
                  "5": "461509"
                },
                {
                  "0": "Thriller",
                  "1": "5.9",
                  "2": "English",
                  "3": "120",
                  "4": "A Fall from Grace",
                  "5": "268282"
                },
                {
                  "0": "Mockumentary",
                  "1": "5.9",
                  "2": "English",
                  "3": "32",
                  "4": "Frankenstein's Monster's Monster, Frankenstein",
                  "5": "459304"
                },
                {
                  "0": "Musical",
                  "1": "5.9",
                  "2": "English",
                  "3": "132",
                  "4": "The Prom",
                  "5": "70504"
                },
                {
                  "0": "Biopic",
                  "1": "6.0",
                  "2": "English",
                  "3": "106",
                  "4": "Come Sunday",
                  "5": "26089"
                },
                {
                  "0": "Drama",
                  "1": "6.0",
                  "2": "English",
                  "3": "90",
                  "4": "Juanita",
                  "5": "114290"
                },
                {
                  "0": "Romantic comedy",
                  "1": "6.0",
                  "2": "English",
                  "3": "105",
                  "4": "The Kissing Booth",
                  "5": "542362"
                },
                {
                  "0": "War-Comedy",
                  "1": "6.0",
                  "2": "English",
                  "3": "122",
                  "4": "War Machine",
                  "5": "456749"
                },
                {
                  "0": "Drama",
                  "1": "6.1",
                  "2": "English",
                  "3": "94",
                  "4": "Deidra & Laney Rob a Train",
                  "5": "334867"
                }
              ],
              "schema": [
                {
                  "key": "0",
                  "name": "Genre",
                  "type": "string"
                },
                {
                  "key": "1",
                  "name": "IMDB_Score",
                  "type": "double"
                },
                {
                  "key": "2",
                  "name": "Language",
                  "type": "string"
                },
                {
                  "key": "3",
                  "name": "Runtime",
                  "type": "bigint"
                },
                {
                  "key": "4",
                  "name": "Title",
                  "type": "string"
                },
                {
                  "key": "5",
                  "name": "Views",
                  "type": "bigint"
                }
              ],
              "truncated": false
            },
            "isSummary": false,
            "language": "scala"
          },
          "persist_state": {
            "view": {
              "type": "details",
              "tableOptions": {},
              "chartOptions": {
                "chartType": "bar",
                "aggregationType": "sum",
                "categoryFieldKeys": [
                  "0"
                ],
                "seriesFieldKeys": [
                  "1"
                ],
                "isStacked": false
              }
            }
          }
        },
        "11f1671b-5bc2-4694-8ff6-e0b738205e61": {
          "type": "Synapse.DataFrame",
          "sync_state": {
            "table": {
              "rows": [
                {
                  "0": "The App",
                  "1": "Science fiction/Drama",
                  "2": "79",
                  "3": "2.6",
                  "4": "Italian",
                  "5": "157606"
                },
                {
                  "0": "Sardar Ka Grandson",
                  "1": "Comedy",
                  "2": "139",
                  "3": "4.1",
                  "4": "Hindi",
                  "5": "192177"
                },
                {
                  "0": "Ghost Stories",
                  "1": "Horror anthology",
                  "2": "144",
                  "3": "4.3",
                  "4": "Hindi",
                  "5": "211760"
                },
                {
                  "0": "The Girl on the Train",
                  "1": "Thriller",
                  "2": "120",
                  "3": "4.4",
                  "4": "Hindi",
                  "5": "38552"
                },
                {
                  "0": "After Maria",
                  "1": "Documentary",
                  "2": "37",
                  "3": "4.6",
                  "4": "English/Spanish",
                  "5": "48123"
                },
                {
                  "0": "Finding Agnes",
                  "1": "Drama",
                  "2": "105",
                  "3": "4.7",
                  "4": "Filipino",
                  "5": "293732"
                },
                {
                  "0": "Coin Heist",
                  "1": "Heist",
                  "2": "97",
                  "3": "4.8",
                  "4": "English",
                  "5": "2791414"
                },
                {
                  "0": "Fearless",
                  "1": "Animation/Superhero",
                  "2": "89",
                  "3": "4.9",
                  "4": "English",
                  "5": "41362"
                },
                {
                  "0": "Squared Love",
                  "1": "Romantic comedy",
                  "2": "102",
                  "3": "5.0",
                  "4": "Polish",
                  "5": "3739"
                },
                {
                  "0": "#REALITYHIGH",
                  "1": "Comedy",
                  "2": "99",
                  "3": "5.2",
                  "4": "English",
                  "5": "440209"
                },
                {
                  "0": "Girlfriend's Day",
                  "1": "Comedy",
                  "2": "70",
                  "3": "5.2",
                  "4": "English",
                  "5": "39134"
                },
                {
                  "0": "Still Laugh-In: The Stars Celebrate",
                  "1": "Variety show",
                  "2": "60",
                  "3": "5.2",
                  "4": "English",
                  "5": "147717"
                },
                {
                  "0": "Dangerous Lies",
                  "1": "Thriller",
                  "2": "97",
                  "3": "5.3",
                  "4": "English",
                  "5": "27869"
                },
                {
                  "0": "XOXO",
                  "1": "Drama",
                  "2": "92",
                  "3": "5.3",
                  "4": "English",
                  "5": "106463"
                },
                {
                  "0": "Guilty",
                  "1": "Thriller",
                  "2": "119",
                  "3": "5.4",
                  "4": "Hindi",
                  "5": "108836"
                },
                {
                  "0": "Squared Love",
                  "1": "Romantic comedy",
                  "2": "102",
                  "3": "5.0",
                  "4": "Polish",
                  "5": "3739"
                },
                {
                  "0": "A Very Murray Christmas",
                  "1": "Comedy / Musical",
                  "2": "56",
                  "3": "5.5",
                  "4": "English",
                  "5": "117590"
                },
                {
                  "0": "Love Wedding Repeat",
                  "1": "Romantic comedy",
                  "2": "100",
                  "3": "5.5",
                  "4": "English",
                  "5": "590595"
                },
                {
                  "0": "The Knight Before Christmas",
                  "1": "Romantic comedy",
                  "2": "92",
                  "3": "5.5",
                  "4": "English",
                  "5": "362093"
                },
                {
                  "0": "Wine Country",
                  "1": "Comedy",
                  "2": "103",
                  "3": "5.5",
                  "4": "English",
                  "5": "198243"
                },
                {
                  "0": "Hold the Dark",
                  "1": "Thriller",
                  "2": "125",
                  "3": "5.6",
                  "4": "English",
                  "5": "50953"
                },
                {
                  "0": "The Midnight Sky",
                  "1": "Science fiction",
                  "2": "118",
                  "3": "5.6",
                  "4": "English",
                  "5": "660286"
                },
                {
                  "0": "A Week Away",
                  "1": "Christian musical",
                  "2": "97",
                  "3": "5.7",
                  "4": "English",
                  "5": "34184"
                },
                {
                  "0": "Ginny Weds Sunny",
                  "1": "Romantic comedy",
                  "2": "125",
                  "3": "5.7",
                  "4": "Hindi",
                  "5": "410249"
                },
                {
                  "0": "Out of Many, One",
                  "1": "Documentary",
                  "2": "34",
                  "3": "5.7",
                  "4": "English",
                  "5": "4299"
                },
                {
                  "0": "The Holiday Calendar",
                  "1": "Romantic comedy",
                  "2": "95",
                  "3": "5.7",
                  "4": "English",
                  "5": "400519"
                },
                {
                  "0": "45153",
                  "1": "Comedy-drama",
                  "2": "124",
                  "3": "5.8",
                  "4": "Marathi",
                  "5": "6946"
                },
                {
                  "0": "Barry",
                  "1": "Biopic",
                  "2": "104",
                  "3": "5.8",
                  "4": "English",
                  "5": "156567"
                },
                {
                  "0": "Extinction",
                  "1": "Science fiction/Thriller",
                  "2": "95",
                  "3": "5.8",
                  "4": "English",
                  "5": "332476"
                },
                {
                  "0": "Mascots",
                  "1": "Mockumentary",
                  "2": "95",
                  "3": "5.8",
                  "4": "English",
                  "5": "451894"
                },
                {
                  "0": "Rising High",
                  "1": "Satire",
                  "2": "94",
                  "3": "5.8",
                  "4": "German",
                  "5": "137203"
                },
                {
                  "0": "TAU",
                  "1": "Science fiction/Thriller",
                  "2": "97",
                  "3": "5.8",
                  "4": "English",
                  "5": "1176"
                },
                {
                  "0": "The Perfect Date",
                  "1": "Romantic comedy",
                  "2": "89",
                  "3": "5.8",
                  "4": "English",
                  "5": "461509"
                },
                {
                  "0": "A Fall from Grace",
                  "1": "Thriller",
                  "2": "120",
                  "3": "5.9",
                  "4": "English",
                  "5": "268282"
                },
                {
                  "0": "Frankenstein's Monster's Monster, Frankenstein",
                  "1": "Mockumentary",
                  "2": "32",
                  "3": "5.9",
                  "4": "English",
                  "5": "459304"
                },
                {
                  "0": "The Prom",
                  "1": "Musical",
                  "2": "132",
                  "3": "5.9",
                  "4": "English",
                  "5": "70504"
                },
                {
                  "0": "Come Sunday",
                  "1": "Biopic",
                  "2": "106",
                  "3": "6.0",
                  "4": "English",
                  "5": "26089"
                },
                {
                  "0": "Juanita",
                  "1": "Drama",
                  "2": "90",
                  "3": "6.0",
                  "4": "English",
                  "5": "114290"
                },
                {
                  "0": "The Kissing Booth",
                  "1": "Romantic comedy",
                  "2": "105",
                  "3": "6.0",
                  "4": "English",
                  "5": "542362"
                },
                {
                  "0": "War Machine",
                  "1": "War-Comedy",
                  "2": "122",
                  "3": "6.0",
                  "4": "English",
                  "5": "456749"
                },
                {
                  "0": "Deidra & Laney Rob a Train",
                  "1": "Drama",
                  "2": "94",
                  "3": "6.1",
                  "4": "English",
                  "5": "334867"
                }
              ],
              "schema": [
                {
                  "key": "0",
                  "name": "Title",
                  "type": "string"
                },
                {
                  "key": "1",
                  "name": "Genre",
                  "type": "string"
                },
                {
                  "key": "2",
                  "name": "Runtime",
                  "type": "int"
                },
                {
                  "key": "3",
                  "name": "IMDB_Score",
                  "type": "double"
                },
                {
                  "key": "4",
                  "name": "Language",
                  "type": "string"
                },
                {
                  "key": "5",
                  "name": "Views",
                  "type": "int"
                }
              ],
              "truncated": false
            },
            "isSummary": false,
            "language": "scala"
          },
          "persist_state": {
            "view": {
              "type": "details",
              "tableOptions": {},
              "chartOptions": {
                "chartType": "bar",
                "aggregationType": "sum",
                "categoryFieldKeys": [
                  "0"
                ],
                "seriesFieldKeys": [
                  "2"
                ],
                "isStacked": false
              }
            }
          }
        }
      }
    }
  },
  "nbformat": 4,
  "nbformat_minor": 2
}