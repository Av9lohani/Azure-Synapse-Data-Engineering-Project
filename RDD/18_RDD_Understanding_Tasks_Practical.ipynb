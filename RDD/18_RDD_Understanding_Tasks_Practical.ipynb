{
  "nbformat": 4,
  "nbformat_minor": 2,
  "metadata": {
    "kernelspec": {
      "name": "synapse_pyspark",
      "display_name": "Synapse PySpark"
    },
    "language_info": {
      "name": "python"
    },
    "description": null,
    "save_output": true,
    "synapse_widget": {
      "version": "0.1",
      "state": {}
    }
  },
  "cells": [
    {
      "cell_type": "code",
      "execution_count": 1,
      "outputs": [
        {
          "output_type": "display_data",
          "data": {
            "application/vnd.livy.statement-meta+json": {
              "spark_pool": "testpool",
              "session_id": "14",
              "statement_id": 2,
              "state": "finished",
              "livy_statement_state": "available",
              "queued_time": "2023-05-08T16:29:04.4061891Z",
              "session_start_time": "2023-05-08T16:29:04.5022631Z",
              "execution_start_time": "2023-05-08T16:32:27.4915228Z",
              "execution_finish_time": "2023-05-08T16:32:27.6727909Z",
              "spark_jobs": null,
              "parent_msg_id": "8a2716ee-5831-4a2b-a4cf-cb121f0b5623"
            },
            "text/plain": "StatementMeta(testpool, 14, 2, Finished, Available)"
          },
          "metadata": {}
        },
        {
          "output_type": "execute_result",
          "data": {
            "text/plain": "<SparkContext master=yarn appName=WC final_Copy1_testpool_1683563344>",
            "text/html": "\n        <div>\n            <p><b>SparkContext</b></p>\n\n            <p><a href=\"http://vm-e5733085:38377\">Spark UI</a></p>\n\n            <dl>\n              <dt>Version</dt>\n                <dd><code>v3.3.1.5.2-90111858</code></dd>\n              <dt>Master</dt>\n                <dd><code>yarn</code></dd>\n              <dt>AppName</dt>\n                <dd><code>WC final_Copy1_testpool_1683563344</code></dd>\n            </dl>\n        </div>\n        "
          },
          "execution_count": 5,
          "metadata": {}
        }
      ],
      "metadata": {},
      "source": [
        "sc"
      ]
    },
    {
      "cell_type": "code",
      "execution_count": 2,
      "outputs": [
        {
          "output_type": "display_data",
          "data": {
            "application/vnd.livy.statement-meta+json": {
              "spark_pool": "testpool",
              "session_id": "14",
              "statement_id": 3,
              "state": "finished",
              "livy_statement_state": "available",
              "queued_time": "2023-05-08T16:29:04.4069309Z",
              "session_start_time": null,
              "execution_start_time": "2023-05-08T16:32:27.8306193Z",
              "execution_finish_time": "2023-05-08T16:32:29.731687Z",
              "spark_jobs": null,
              "parent_msg_id": "e32bc1f4-c5df-4d7c-bda7-bd5a5d7a05a4"
            },
            "text/plain": "StatementMeta(testpool, 14, 3, Finished, Available)"
          },
          "metadata": {}
        }
      ],
      "metadata": {
        "jupyter": {
          "source_hidden": false,
          "outputs_hidden": false
        },
        "nteract": {
          "transient": {
            "deleting": false
          }
        }
      },
      "source": [
        "RDDread = sc.textFile('abfss://raw@datalake11212.dfs.core.windows.net/tonystark.txt')"
      ]
    },
    {
      "cell_type": "code",
      "execution_count": 3,
      "outputs": [
        {
          "output_type": "display_data",
          "data": {
            "application/vnd.livy.statement-meta+json": {
              "spark_pool": "testpool",
              "session_id": "14",
              "statement_id": 4,
              "state": "finished",
              "livy_statement_state": "available",
              "queued_time": "2023-05-08T16:29:04.4080429Z",
              "session_start_time": null,
              "execution_start_time": "2023-05-08T16:32:29.9003062Z",
              "execution_finish_time": "2023-05-08T16:32:30.2897093Z",
              "spark_jobs": null,
              "parent_msg_id": "31b93661-5a96-4658-a4eb-662656400d04"
            },
            "text/plain": "StatementMeta(testpool, 14, 4, Finished, Available)"
          },
          "metadata": {}
        },
        {
          "output_type": "execute_result",
          "data": {
            "text/plain": "pyspark.rdd.RDD"
          },
          "execution_count": 9,
          "metadata": {}
        }
      ],
      "metadata": {
        "jupyter": {
          "source_hidden": false,
          "outputs_hidden": false
        },
        "nteract": {
          "transient": {
            "deleting": false
          }
        }
      },
      "source": [
        "type(RDDread)"
      ]
    },
    {
      "cell_type": "code",
      "execution_count": 4,
      "outputs": [
        {
          "output_type": "display_data",
          "data": {
            "application/vnd.livy.statement-meta+json": {
              "spark_pool": "testpool",
              "session_id": "14",
              "statement_id": 5,
              "state": "finished",
              "livy_statement_state": "available",
              "queued_time": "2023-05-08T16:29:04.4089978Z",
              "session_start_time": null,
              "execution_start_time": "2023-05-08T16:32:30.4495201Z",
              "execution_finish_time": "2023-05-08T16:32:32.3818735Z",
              "spark_jobs": null,
              "parent_msg_id": "45c0c59f-bb8f-4543-a0d2-b678ea5592b7"
            },
            "text/plain": "StatementMeta(testpool, 14, 5, Finished, Available)"
          },
          "metadata": {}
        },
        {
          "output_type": "execute_result",
          "data": {
            "text/plain": "2"
          },
          "execution_count": 11,
          "metadata": {}
        }
      ],
      "metadata": {
        "jupyter": {
          "source_hidden": false,
          "outputs_hidden": false
        },
        "nteract": {
          "transient": {
            "deleting": false
          }
        }
      },
      "source": [
        "RDDread.getNumPartitions()"
      ]
    },
    {
      "cell_type": "code",
      "execution_count": 5,
      "outputs": [
        {
          "output_type": "display_data",
          "data": {
            "application/vnd.livy.statement-meta+json": {
              "spark_pool": "testpool",
              "session_id": "14",
              "statement_id": 6,
              "state": "finished",
              "livy_statement_state": "available",
              "queued_time": "2023-05-08T16:29:04.4101165Z",
              "session_start_time": null,
              "execution_start_time": "2023-05-08T16:32:32.53283Z",
              "execution_finish_time": "2023-05-08T16:32:32.7067709Z",
              "spark_jobs": null,
              "parent_msg_id": "72a6ff32-1362-4617-930a-66e123be3794"
            },
            "text/plain": "StatementMeta(testpool, 14, 6, Finished, Available)"
          },
          "metadata": {}
        }
      ],
      "metadata": {
        "jupyter": {
          "source_hidden": false,
          "outputs_hidden": false
        },
        "nteract": {
          "transient": {
            "deleting": false
          }
        }
      },
      "source": [
        "RDDFlatMap = RDDread.flatMap(lambda x:x.split(\" \"))"
      ]
    },
    {
      "cell_type": "code",
      "execution_count": 6,
      "outputs": [
        {
          "output_type": "display_data",
          "data": {
            "application/vnd.livy.statement-meta+json": {
              "spark_pool": "testpool",
              "session_id": "14",
              "statement_id": 7,
              "state": "finished",
              "livy_statement_state": "available",
              "queued_time": "2023-05-08T16:29:04.4110906Z",
              "session_start_time": null,
              "execution_start_time": "2023-05-08T16:32:32.8524059Z",
              "execution_finish_time": "2023-05-08T16:32:33.0244242Z",
              "spark_jobs": null,
              "parent_msg_id": "fd3bc7d1-a4ca-4a91-a946-eaf146bd3cfd"
            },
            "text/plain": "StatementMeta(testpool, 14, 7, Finished, Available)"
          },
          "metadata": {}
        }
      ],
      "metadata": {
        "jupyter": {
          "source_hidden": false,
          "outputs_hidden": false
        },
        "nteract": {
          "transient": {
            "deleting": false
          }
        }
      },
      "source": [
        "RDDFilter = RDDFlatMap.filter(lambda x:x!=\" \")"
      ]
    },
    {
      "cell_type": "code",
      "execution_count": null,
      "outputs": [],
      "metadata": {
        "jupyter": {
          "source_hidden": false,
          "outputs_hidden": false
        },
        "nteract": {
          "transient": {
            "deleting": false
          }
        }
      },
      "source": []
    },
    {
      "cell_type": "code",
      "execution_count": 7,
      "outputs": [
        {
          "output_type": "display_data",
          "data": {
            "application/vnd.livy.statement-meta+json": {
              "spark_pool": "testpool",
              "session_id": "14",
              "statement_id": 8,
              "state": "finished",
              "livy_statement_state": "available",
              "queued_time": "2023-05-08T16:29:04.4122502Z",
              "session_start_time": null,
              "execution_start_time": "2023-05-08T16:32:33.1735145Z",
              "execution_finish_time": "2023-05-08T16:32:33.3417082Z",
              "spark_jobs": null,
              "parent_msg_id": "89ba8d0e-d643-4eac-b60d-c7d8caaa0d50"
            },
            "text/plain": "StatementMeta(testpool, 14, 8, Finished, Available)"
          },
          "metadata": {}
        }
      ],
      "metadata": {
        "jupyter": {
          "source_hidden": false,
          "outputs_hidden": false
        },
        "nteract": {
          "transient": {
            "deleting": false
          }
        }
      },
      "source": [
        "RDDmap = RDDFilter.map(lambda x: (x,1))"
      ]
    },
    {
      "cell_type": "code",
      "execution_count": 8,
      "outputs": [
        {
          "output_type": "display_data",
          "data": {
            "application/vnd.livy.statement-meta+json": {
              "spark_pool": "testpool",
              "session_id": "14",
              "statement_id": 9,
              "state": "finished",
              "livy_statement_state": "available",
              "queued_time": "2023-05-08T16:29:04.4138971Z",
              "session_start_time": null,
              "execution_start_time": "2023-05-08T16:32:33.5024115Z",
              "execution_finish_time": "2023-05-08T16:32:33.7141053Z",
              "spark_jobs": null,
              "parent_msg_id": "3f04b179-5c5a-44bf-8fd7-3d6c72da291f"
            },
            "text/plain": "StatementMeta(testpool, 14, 9, Finished, Available)"
          },
          "metadata": {}
        },
        {
          "output_type": "execute_result",
          "data": {
            "text/plain": "2"
          },
          "execution_count": 19,
          "metadata": {}
        }
      ],
      "metadata": {
        "jupyter": {
          "source_hidden": false,
          "outputs_hidden": false
        },
        "nteract": {
          "transient": {
            "deleting": false
          }
        }
      },
      "source": [
        "RDDmap.getNumPartitions()"
      ]
    },
    {
      "cell_type": "code",
      "execution_count": 9,
      "outputs": [
        {
          "output_type": "display_data",
          "data": {
            "application/vnd.livy.statement-meta+json": {
              "spark_pool": "testpool",
              "session_id": "14",
              "statement_id": 10,
              "state": "finished",
              "livy_statement_state": "available",
              "queued_time": "2023-05-08T16:29:04.4153961Z",
              "session_start_time": null,
              "execution_start_time": "2023-05-08T16:32:33.8625568Z",
              "execution_finish_time": "2023-05-08T16:32:52.9142286Z",
              "spark_jobs": null,
              "parent_msg_id": "b2e1b9de-d40b-42dc-9625-bed24c7225a5"
            },
            "text/plain": "StatementMeta(testpool, 14, 10, Finished, Available)"
          },
          "metadata": {}
        },
        {
          "output_type": "execute_result",
          "data": {
            "text/plain": "[[('Tony', 1),\n  ('Stark', 1),\n  ('is', 1),\n  ('the', 1),\n  ('wealthy', 1),\n  ('son', 1),\n  ('of', 1),\n  ('industrialist', 1),\n  ('and', 1),\n  ('weapons', 1),\n  ('manufacturer', 1),\n  ('Howard', 1),\n  ('Stark', 1),\n  ('and', 1),\n  ('his', 1),\n  ('wife,', 1),\n  ('Maria.', 1),\n  ('', 1),\n  ('Tony', 1),\n  ('grew', 1),\n  ('up', 1),\n  ('a', 1),\n  ('genius', 1),\n  ('with', 1),\n  ('a', 1),\n  ('brilliant', 1),\n  ('mind', 1),\n  ('for', 1),\n  ('technology', 1),\n  ('and', 1),\n  ('inventions', 1),\n  ('and,', 1),\n  ('naturally,', 1),\n  ('followed', 1),\n  ('in', 1),\n  ('his', 1),\n  ('father’s', 1),\n  ('footsteps,', 1),\n  ('inheriting', 1),\n  ('Stark', 1),\n  ('Industries', 1),\n  ('upon', 1),\n  ('his', 1),\n  ('parents’', 1),\n  ('untimely', 1),\n  ('death.', 1),\n  ('', 1)],\n [('Tony', 1),\n  ('designed', 1),\n  ('many', 1),\n  ('weapons', 1),\n  ('of', 1),\n  ('war', 1),\n  ('for', 1),\n  ('Stark', 1),\n  ('Industries,', 1),\n  ('far', 1),\n  ('beyond', 1),\n  ('what', 1),\n  ('any', 1),\n  ('other', 1),\n  ('company', 1),\n  ('was', 1),\n  ('creating,', 1),\n  ('while', 1),\n  ('living', 1),\n  ('the', 1),\n  ('lifestyle', 1),\n  ('of', 1),\n  ('a', 1),\n  ('bon', 1),\n  ('vivant.', 1)]]"
          },
          "execution_count": 21,
          "metadata": {}
        }
      ],
      "metadata": {
        "jupyter": {
          "source_hidden": false,
          "outputs_hidden": false
        },
        "nteract": {
          "transient": {
            "deleting": false
          }
        }
      },
      "source": [
        "RDDmap.glom().collect()"
      ]
    },
    {
      "cell_type": "code",
      "execution_count": 10,
      "outputs": [
        {
          "output_type": "display_data",
          "data": {
            "application/vnd.livy.statement-meta+json": {
              "spark_pool": "testpool",
              "session_id": "14",
              "statement_id": 11,
              "state": "finished",
              "livy_statement_state": "available",
              "queued_time": "2023-05-08T16:29:04.417452Z",
              "session_start_time": null,
              "execution_start_time": "2023-05-08T16:32:53.0639961Z",
              "execution_finish_time": "2023-05-08T16:32:53.6834008Z",
              "spark_jobs": null,
              "parent_msg_id": "66ae73cd-0448-4ab9-8ba5-52f1452f55ac"
            },
            "text/plain": "StatementMeta(testpool, 14, 11, Finished, Available)"
          },
          "metadata": {}
        },
        {
          "output_type": "execute_result",
          "data": {
            "text/plain": "[('Tony', 1), ('Stark', 1), ('is', 1), ('the', 1), ('wealthy', 1)]"
          },
          "execution_count": 23,
          "metadata": {}
        }
      ],
      "metadata": {
        "jupyter": {
          "source_hidden": false,
          "outputs_hidden": false
        },
        "nteract": {
          "transient": {
            "deleting": false
          }
        }
      },
      "source": [
        "RDDmap.take(5)"
      ]
    },
    {
      "cell_type": "code",
      "execution_count": 11,
      "outputs": [
        {
          "output_type": "display_data",
          "data": {
            "application/vnd.livy.statement-meta+json": {
              "spark_pool": "testpool",
              "session_id": "14",
              "statement_id": 12,
              "state": "finished",
              "livy_statement_state": "available",
              "queued_time": "2023-05-08T16:29:04.418802Z",
              "session_start_time": null,
              "execution_start_time": "2023-05-08T16:32:53.8248404Z",
              "execution_finish_time": "2023-05-08T16:32:53.9949815Z",
              "spark_jobs": null,
              "parent_msg_id": "a5322a21-51d2-4015-895a-47bbdfbe74e8"
            },
            "text/plain": "StatementMeta(testpool, 14, 12, Finished, Available)"
          },
          "metadata": {}
        },
        {
          "output_type": "execute_result",
          "data": {
            "text/plain": "2"
          },
          "execution_count": 25,
          "metadata": {}
        }
      ],
      "metadata": {
        "jupyter": {
          "source_hidden": false,
          "outputs_hidden": false
        },
        "nteract": {
          "transient": {
            "deleting": false
          }
        }
      },
      "source": [
        "RDDmap.getNumPartitions()"
      ]
    },
    {
      "cell_type": "code",
      "execution_count": 12,
      "outputs": [
        {
          "output_type": "display_data",
          "data": {
            "application/vnd.livy.statement-meta+json": {
              "spark_pool": "testpool",
              "session_id": "14",
              "statement_id": 13,
              "state": "finished",
              "livy_statement_state": "available",
              "queued_time": "2023-05-08T16:29:04.4206526Z",
              "session_start_time": null,
              "execution_start_time": "2023-05-08T16:32:54.1425862Z",
              "execution_finish_time": "2023-05-08T16:32:54.7479919Z",
              "spark_jobs": null,
              "parent_msg_id": "ca6b8e6e-685f-4267-a2ce-a9e3900f3b12"
            },
            "text/plain": "StatementMeta(testpool, 14, 13, Finished, Available)"
          },
          "metadata": {}
        },
        {
          "output_type": "execute_result",
          "data": {
            "text/plain": "[('Tony', 1),\n ('Stark', 1),\n ('is', 1),\n ('the', 1),\n ('wealthy', 1),\n ('son', 1),\n ('of', 1),\n ('industrialist', 1),\n ('and', 1),\n ('weapons', 1),\n ('manufacturer', 1),\n ('Howard', 1),\n ('Stark', 1),\n ('and', 1),\n ('his', 1),\n ('wife,', 1),\n ('Maria.', 1),\n ('', 1),\n ('Tony', 1),\n ('grew', 1),\n ('up', 1),\n ('a', 1),\n ('genius', 1),\n ('with', 1),\n ('a', 1),\n ('brilliant', 1),\n ('mind', 1),\n ('for', 1),\n ('technology', 1),\n ('and', 1),\n ('inventions', 1),\n ('and,', 1),\n ('naturally,', 1),\n ('followed', 1),\n ('in', 1),\n ('his', 1),\n ('father’s', 1),\n ('footsteps,', 1),\n ('inheriting', 1),\n ('Stark', 1),\n ('Industries', 1),\n ('upon', 1),\n ('his', 1),\n ('parents’', 1),\n ('untimely', 1),\n ('death.', 1),\n ('', 1),\n ('Tony', 1),\n ('designed', 1),\n ('many', 1),\n ('weapons', 1),\n ('of', 1),\n ('war', 1),\n ('for', 1),\n ('Stark', 1),\n ('Industries,', 1),\n ('far', 1),\n ('beyond', 1),\n ('what', 1),\n ('any', 1),\n ('other', 1),\n ('company', 1),\n ('was', 1),\n ('creating,', 1),\n ('while', 1),\n ('living', 1),\n ('the', 1),\n ('lifestyle', 1),\n ('of', 1),\n ('a', 1),\n ('bon', 1),\n ('vivant.', 1)]"
          },
          "execution_count": 27,
          "metadata": {}
        }
      ],
      "metadata": {
        "jupyter": {
          "source_hidden": false,
          "outputs_hidden": false
        },
        "nteract": {
          "transient": {
            "deleting": false
          }
        }
      },
      "source": [
        "RDDmap.collect()"
      ]
    },
    {
      "cell_type": "code",
      "execution_count": 13,
      "outputs": [
        {
          "output_type": "display_data",
          "data": {
            "application/vnd.livy.statement-meta+json": {
              "spark_pool": "testpool",
              "session_id": "14",
              "statement_id": 14,
              "state": "finished",
              "livy_statement_state": "available",
              "queued_time": "2023-05-08T16:29:04.4225078Z",
              "session_start_time": null,
              "execution_start_time": "2023-05-08T16:32:54.9037179Z",
              "execution_finish_time": "2023-05-08T16:32:55.0838854Z",
              "spark_jobs": null,
              "parent_msg_id": "245d9d6d-0603-427b-ba1a-161f90f216f8"
            },
            "text/plain": "StatementMeta(testpool, 14, 14, Finished, Available)"
          },
          "metadata": {}
        }
      ],
      "metadata": {
        "jupyter": {
          "source_hidden": false,
          "outputs_hidden": false
        },
        "nteract": {
          "transient": {
            "deleting": false
          }
        }
      },
      "source": [
        "RDDReduce = RDDmap.reduceByKey(lambda x,y: x+y)"
      ]
    },
    {
      "cell_type": "code",
      "execution_count": 14,
      "outputs": [
        {
          "output_type": "display_data",
          "data": {
            "application/vnd.livy.statement-meta+json": {
              "spark_pool": "testpool",
              "session_id": "14",
              "statement_id": 15,
              "state": "finished",
              "livy_statement_state": "available",
              "queued_time": "2023-05-08T16:29:04.4251305Z",
              "session_start_time": null,
              "execution_start_time": "2023-05-08T16:32:55.2382995Z",
              "execution_finish_time": "2023-05-08T16:32:55.4440906Z",
              "spark_jobs": null,
              "parent_msg_id": "d4f77085-8d1e-47ea-9dca-029870a085c9"
            },
            "text/plain": "StatementMeta(testpool, 14, 15, Finished, Available)"
          },
          "metadata": {}
        },
        {
          "output_type": "execute_result",
          "data": {
            "text/plain": "2"
          },
          "execution_count": 31,
          "metadata": {}
        }
      ],
      "metadata": {
        "jupyter": {
          "source_hidden": false,
          "outputs_hidden": false
        },
        "nteract": {
          "transient": {
            "deleting": false
          }
        }
      },
      "source": [
        "RDDReduce.getNumPartitions()"
      ]
    },
    {
      "cell_type": "code",
      "execution_count": 15,
      "outputs": [
        {
          "output_type": "display_data",
          "data": {
            "application/vnd.livy.statement-meta+json": {
              "spark_pool": "testpool",
              "session_id": "14",
              "statement_id": 16,
              "state": "finished",
              "livy_statement_state": "available",
              "queued_time": "2023-05-08T16:29:04.426715Z",
              "session_start_time": null,
              "execution_start_time": "2023-05-08T16:32:55.6231727Z",
              "execution_finish_time": "2023-05-08T16:32:56.7672192Z",
              "spark_jobs": null,
              "parent_msg_id": "74c1996b-e916-4719-b3d0-b9c1289ab811"
            },
            "text/plain": "StatementMeta(testpool, 14, 16, Finished, Available)"
          },
          "metadata": {}
        },
        {
          "output_type": "execute_result",
          "data": {
            "text/plain": "[('Tony', 3),\n ('is', 1),\n ('son', 1),\n ('of', 3),\n ('industrialist', 1),\n ('weapons', 2),\n ('manufacturer', 1),\n ('Howard', 1),\n ('his', 3),\n ('Maria.', 1),\n ('', 2),\n ('genius', 1),\n ('mind', 1),\n ('technology', 1),\n ('naturally,', 1),\n ('in', 1),\n ('footsteps,', 1),\n ('Industries', 1),\n ('upon', 1),\n ('parents’', 1),\n ('untimely', 1),\n ('death.', 1),\n ('designed', 1),\n ('far', 1),\n ('beyond', 1),\n ('other', 1),\n ('was', 1),\n ('living', 1),\n ('lifestyle', 1),\n ('vivant.', 1),\n ('many', 1),\n ('war', 1),\n ('for', 2),\n ('Stark', 4),\n ('Industries,', 1),\n ('what', 1),\n ('any', 1),\n ('company', 1),\n ('creating,', 1),\n ('while', 1),\n ('the', 2),\n ('a', 3),\n ('bon', 1),\n ('wealthy', 1),\n ('and', 3),\n ('wife,', 1),\n ('grew', 1),\n ('up', 1),\n ('with', 1),\n ('brilliant', 1),\n ('inventions', 1),\n ('and,', 1),\n ('followed', 1),\n ('father’s', 1),\n ('inheriting', 1)]"
          },
          "execution_count": 33,
          "metadata": {}
        }
      ],
      "metadata": {
        "jupyter": {
          "source_hidden": false,
          "outputs_hidden": false
        },
        "nteract": {
          "transient": {
            "deleting": false
          }
        }
      },
      "source": [
        "RDDReduce.collect()"
      ]
    },
    {
      "cell_type": "code",
      "execution_count": null,
      "outputs": [],
      "metadata": {
        "jupyter": {
          "source_hidden": false,
          "outputs_hidden": false
        },
        "nteract": {
          "transient": {
            "deleting": false
          }
        }
      },
      "source": []
    },
    {
      "cell_type": "code",
      "execution_count": null,
      "outputs": [],
      "metadata": {
        "jupyter": {
          "source_hidden": false,
          "outputs_hidden": false
        },
        "nteract": {
          "transient": {
            "deleting": false
          }
        }
      },
      "source": []
    }
  ]
}