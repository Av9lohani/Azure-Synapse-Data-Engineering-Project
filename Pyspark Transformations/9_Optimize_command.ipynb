{
  "nbformat": 4,
  "nbformat_minor": 2,
  "cells": [
    {
      "cell_type": "code",
      "execution_count": 2,
      "outputs": [
        {
          "output_type": "display_data",
          "data": {
            "application/vnd.livy.statement-meta+json": {
              "spark_pool": null,
              "session_id": "69",
              "statement_id": -1,
              "state": "finished",
              "livy_statement_state": "available",
              "queued_time": "2023-08-01T05:01:27.2051026Z",
              "session_start_time": null,
              "execution_start_time": "2023-08-01T05:02:34.7085905Z",
              "execution_finish_time": "2023-08-01T05:02:34.7088069Z",
              "spark_jobs": null,
              "parent_msg_id": "407b51b6-614d-4166-8416-91854499119c"
            },
            "text/plain": "StatementMeta(, 69, -1, Finished, Available)"
          },
          "metadata": {}
        },
        {
          "output_type": "execute_result",
          "data": {
            "application/vnd.synapse.sparksql-result+json": {
              "schema": {
                "type": "struct",
                "fields": []
              },
              "data": []
            },
            "text/plain": "<Spark SQL result set with 0 rows and 0 fields>"
          },
          "execution_count": 2,
          "metadata": {}
        },
        {
          "output_type": "execute_result",
          "data": {
            "application/vnd.synapse.sparksql-result+json": {
              "schema": {
                "type": "struct",
                "fields": []
              },
              "data": []
            },
            "text/plain": "<Spark SQL result set with 0 rows and 0 fields>"
          },
          "execution_count": 2,
          "metadata": {}
        }
      ],
      "metadata": {
        "jupyter": {
          "source_hidden": false,
          "outputs_hidden": false
        },
        "nteract": {
          "transient": {
            "deleting": false
          }
        },
        "microsoft": {
          "language": "sparksql"
        },
        "collapsed": false
      },
      "source": [
        "%%sql\r\n",
        "\r\n",
        "use delta;\r\n",
        "\r\n",
        "CREATE TABLE OptimizeTable\r\n",
        "(\r\n",
        "    Education_Level VARCHAR(50),\r\n",
        "    Line_Number INT,\r\n",
        "    Year INT,\r\n",
        "    Month INT,\r\n",
        "    State VARCHAR(5),\r\n",
        "    Labor_Force INT,\r\n",
        "    Employed INT,\r\n",
        "    Unemployed INT,\r\n",
        "    Industry VARCHAR(50),\r\n",
        "    Gender VARCHAR(10),\r\n",
        "    Date_Inserted DATE,\r\n",
        "    UnEmployed_Rate_Percentage DOUBLE,\r\n",
        "    Min_Salary_USD DOUBLE,\r\n",
        "    Max_Salary_USD DOUBLE,\r\n",
        "    dense_rank INT\r\n",
        ")\r\n",
        "USING DELTA"
      ]
    },
    {
      "cell_type": "code",
      "execution_count": 3,
      "outputs": [
        {
          "output_type": "display_data",
          "data": {
            "application/vnd.livy.statement-meta+json": {
              "spark_pool": "SmallSpark",
              "session_id": "69",
              "statement_id": 5,
              "state": "finished",
              "livy_statement_state": "available",
              "queued_time": "2023-08-01T05:05:11.2144735Z",
              "session_start_time": null,
              "execution_start_time": "2023-08-01T05:05:11.3742051Z",
              "execution_finish_time": "2023-08-01T05:05:32.3347809Z",
              "spark_jobs": null,
              "parent_msg_id": "4bac8c9d-3d2e-41bd-a9eb-0a32c1b4e608"
            },
            "text/plain": "StatementMeta(SmallSpark, 69, 5, Finished, Available)"
          },
          "metadata": {}
        },
        {
          "output_type": "execute_result",
          "data": {
            "application/vnd.synapse.sparksql-result+json": {
              "schema": {
                "type": "struct",
                "fields": []
              },
              "data": []
            },
            "text/plain": "<Spark SQL result set with 0 rows and 0 fields>"
          },
          "execution_count": 3,
          "metadata": {}
        }
      ],
      "metadata": {
        "jupyter": {
          "source_hidden": false,
          "outputs_hidden": false
        },
        "nteract": {
          "transient": {
            "deleting": false
          }
        },
        "microsoft": {
          "language": "sparksql"
        },
        "collapsed": false
      },
      "source": [
        "%%sql\r\n",
        "-- Lets insert a record into that table\r\n",
        "-- Line Number row is having value 100\r\n",
        "INSERT INTO delta.OptimizeTable\r\n",
        "VALUES\r\n",
        "    ('Bachelor', 100, 2023, 7, 'NY', 5000, 4500, 500, 'Networking', 'Male', '2023-07-12', 10.5, 40000, 60000, 1)"
      ]
    },
    {
      "cell_type": "code",
      "execution_count": 4,
      "outputs": [
        {
          "output_type": "display_data",
          "data": {
            "application/vnd.livy.statement-meta+json": {
              "spark_pool": "SmallSpark",
              "session_id": "69",
              "statement_id": 6,
              "state": "finished",
              "livy_statement_state": "available",
              "queued_time": "2023-08-01T05:06:47.1621547Z",
              "session_start_time": null,
              "execution_start_time": "2023-08-01T05:06:47.3579645Z",
              "execution_finish_time": "2023-08-01T05:06:56.5198247Z",
              "spark_jobs": null,
              "parent_msg_id": "8e2bc388-4d34-4ad0-aac6-2c94571f644a"
            },
            "text/plain": "StatementMeta(SmallSpark, 69, 6, Finished, Available)"
          },
          "metadata": {}
        },
        {
          "output_type": "execute_result",
          "data": {
            "application/vnd.synapse.sparksql-result+json": {
              "schema": {
                "type": "struct",
                "fields": []
              },
              "data": []
            },
            "text/plain": "<Spark SQL result set with 0 rows and 0 fields>"
          },
          "execution_count": 4,
          "metadata": {}
        }
      ],
      "metadata": {
        "jupyter": {
          "source_hidden": false,
          "outputs_hidden": false
        },
        "nteract": {
          "transient": {
            "deleting": false
          }
        },
        "microsoft": {
          "language": "sparksql"
        },
        "collapsed": false
      },
      "source": [
        "%%sql\r\n",
        "\r\n",
        "-- Lets insert one more record\r\n",
        "-- Line Number row is having value 101\r\n",
        "\r\n",
        "INSERT INTO delta.OptimizeTable\r\n",
        "VALUES\r\n",
        "    ('Bachelor', 101, 2023, 7, 'NY', 5000, 4500, 500, 'Networking', 'Male', '2023-07-12', 10.5, 40000, 60000, 2)"
      ]
    },
    {
      "cell_type": "code",
      "execution_count": 5,
      "outputs": [
        {
          "output_type": "display_data",
          "data": {
            "application/vnd.livy.statement-meta+json": {
              "spark_pool": "SmallSpark",
              "session_id": "69",
              "statement_id": 7,
              "state": "finished",
              "livy_statement_state": "available",
              "queued_time": "2023-08-01T05:07:51.3382029Z",
              "session_start_time": null,
              "execution_start_time": "2023-08-01T05:07:51.4779281Z",
              "execution_finish_time": "2023-08-01T05:07:56.8540017Z",
              "spark_jobs": null,
              "parent_msg_id": "43079ff3-7e1e-4d21-bd64-566f287b0cee"
            },
            "text/plain": "StatementMeta(SmallSpark, 69, 7, Finished, Available)"
          },
          "metadata": {}
        },
        {
          "output_type": "execute_result",
          "data": {
            "application/vnd.synapse.sparksql-result+json": {
              "schema": {
                "type": "struct",
                "fields": []
              },
              "data": []
            },
            "text/plain": "<Spark SQL result set with 0 rows and 0 fields>"
          },
          "execution_count": 5,
          "metadata": {}
        }
      ],
      "metadata": {
        "jupyter": {
          "source_hidden": false,
          "outputs_hidden": false
        },
        "nteract": {
          "transient": {
            "deleting": false
          }
        },
        "microsoft": {
          "language": "sparksql"
        },
        "collapsed": false
      },
      "source": [
        "%%sql\r\n",
        "\r\n",
        "-- Lets do one more final WRITE operation by adding record\r\n",
        "-- Line number row is having value 102\r\n",
        "\r\n",
        "INSERT INTO delta.OptimizeTable\r\n",
        "VALUES\r\n",
        "('Master', 102, 2023, 7, 'CA', 7000, 6500, 500, 'Networking', 'Female', '2023-07-12', 8.2, 50000, 80000, 3)"
      ]
    },
    {
      "cell_type": "code",
      "execution_count": 6,
      "outputs": [
        {
          "output_type": "display_data",
          "data": {
            "application/vnd.livy.statement-meta+json": {
              "spark_pool": "SmallSpark",
              "session_id": "69",
              "statement_id": 8,
              "state": "finished",
              "livy_statement_state": "available",
              "queued_time": "2023-08-01T05:09:33.045741Z",
              "session_start_time": null,
              "execution_start_time": "2023-08-01T05:09:33.1941274Z",
              "execution_finish_time": "2023-08-01T05:09:43.8837685Z",
              "spark_jobs": null,
              "parent_msg_id": "20f40768-5201-44b9-a956-51289aa3b095"
            },
            "text/plain": "StatementMeta(SmallSpark, 69, 8, Finished, Available)"
          },
          "metadata": {}
        },
        {
          "output_type": "execute_result",
          "data": {
            "application/vnd.synapse.sparksql-result+json": {
              "schema": {
                "type": "struct",
                "fields": [
                  {
                    "name": "num_affected_rows",
                    "type": "long",
                    "nullable": true,
                    "metadata": {}
                  }
                ]
              },
              "data": [
                [
                  "1"
                ]
              ]
            },
            "text/plain": "<Spark SQL result set with 1 rows and 1 fields>"
          },
          "execution_count": 6,
          "metadata": {}
        }
      ],
      "metadata": {
        "jupyter": {
          "source_hidden": false,
          "outputs_hidden": false
        },
        "nteract": {
          "transient": {
            "deleting": false
          }
        },
        "microsoft": {
          "language": "sparksql"
        },
        "collapsed": false
      },
      "source": [
        "%%sql\r\n",
        "\r\n",
        "-- Now lets delete a record that is having Line_Number as 101\r\n",
        "DELETE FROM delta.OptimizeTable\r\n",
        "WHERE Line_Number = 101"
      ]
    },
    {
      "cell_type": "code",
      "execution_count": 7,
      "outputs": [
        {
          "output_type": "display_data",
          "data": {
            "application/vnd.livy.statement-meta+json": {
              "spark_pool": "SmallSpark",
              "session_id": "69",
              "statement_id": 9,
              "state": "finished",
              "livy_statement_state": "available",
              "queued_time": "2023-08-01T05:13:43.456104Z",
              "session_start_time": null,
              "execution_start_time": "2023-08-01T05:13:43.6040484Z",
              "execution_finish_time": "2023-08-01T05:13:52.2937132Z",
              "spark_jobs": null,
              "parent_msg_id": "f6ba4ab0-91f1-4e81-a2f9-742afd8f82ca"
            },
            "text/plain": "StatementMeta(SmallSpark, 69, 9, Finished, Available)"
          },
          "metadata": {}
        },
        {
          "output_type": "execute_result",
          "data": {
            "application/vnd.synapse.sparksql-result+json": {
              "schema": {
                "type": "struct",
                "fields": [
                  {
                    "name": "num_affected_rows",
                    "type": "long",
                    "nullable": true,
                    "metadata": {}
                  }
                ]
              },
              "data": [
                [
                  "1"
                ]
              ]
            },
            "text/plain": "<Spark SQL result set with 1 rows and 1 fields>"
          },
          "execution_count": 7,
          "metadata": {}
        }
      ],
      "metadata": {
        "jupyter": {
          "source_hidden": false,
          "outputs_hidden": false
        },
        "nteract": {
          "transient": {
            "deleting": false
          }
        },
        "microsoft": {
          "language": "sparksql"
        },
        "collapsed": false
      },
      "source": [
        "%%sql\r\n",
        "-- Now lets update a record\r\n",
        "-- So lets change the Line_Number 102 to 99\r\n",
        "\r\n",
        "UPDATE delta.OptimizeTable\r\n",
        "SET Line_Number = 99\r\n",
        "WHERE Line_Number = 102"
      ]
    },
    {
      "cell_type": "markdown",
      "metadata": {
        "nteract": {
          "transient": {
            "deleting": false
          }
        }
      },
      "source": [
        "# Applying optimize command"
      ]
    },
    {
      "cell_type": "code",
      "execution_count": 8,
      "outputs": [
        {
          "output_type": "display_data",
          "data": {
            "application/vnd.livy.statement-meta+json": {
              "spark_pool": "SmallSpark",
              "session_id": "69",
              "statement_id": 10,
              "state": "finished",
              "livy_statement_state": "available",
              "queued_time": "2023-08-01T05:16:58.8657815Z",
              "session_start_time": null,
              "execution_start_time": "2023-08-01T05:16:59.0106195Z",
              "execution_finish_time": "2023-08-01T05:17:09.6327316Z",
              "spark_jobs": null,
              "parent_msg_id": "e40cb835-85a2-48f9-9929-69c3a3c03726"
            },
            "text/plain": "StatementMeta(SmallSpark, 69, 10, Finished, Available)"
          },
          "metadata": {}
        },
        {
          "output_type": "execute_result",
          "data": {
            "application/vnd.synapse.sparksql-result+json": {
              "schema": {
                "type": "struct",
                "fields": [
                  {
                    "name": "path",
                    "type": "string",
                    "nullable": true,
                    "metadata": {}
                  },
                  {
                    "name": "metrics",
                    "type": {
                      "type": "struct",
                      "fields": [
                        {
                          "name": "numFilesAdded",
                          "type": "long",
                          "nullable": false,
                          "metadata": {}
                        },
                        {
                          "name": "numFilesRemoved",
                          "type": "long",
                          "nullable": false,
                          "metadata": {}
                        },
                        {
                          "name": "filesAdded",
                          "type": {
                            "type": "struct",
                            "fields": [
                              {
                                "name": "min",
                                "type": "long",
                                "nullable": true,
                                "metadata": {}
                              },
                              {
                                "name": "max",
                                "type": "long",
                                "nullable": true,
                                "metadata": {}
                              },
                              {
                                "name": "avg",
                                "type": "double",
                                "nullable": false,
                                "metadata": {}
                              },
                              {
                                "name": "totalFiles",
                                "type": "long",
                                "nullable": false,
                                "metadata": {}
                              },
                              {
                                "name": "totalSize",
                                "type": "long",
                                "nullable": false,
                                "metadata": {}
                              }
                            ]
                          },
                          "nullable": true,
                          "metadata": {}
                        },
                        {
                          "name": "filesRemoved",
                          "type": {
                            "type": "struct",
                            "fields": [
                              {
                                "name": "min",
                                "type": "long",
                                "nullable": true,
                                "metadata": {}
                              },
                              {
                                "name": "max",
                                "type": "long",
                                "nullable": true,
                                "metadata": {}
                              },
                              {
                                "name": "avg",
                                "type": "double",
                                "nullable": false,
                                "metadata": {}
                              },
                              {
                                "name": "totalFiles",
                                "type": "long",
                                "nullable": false,
                                "metadata": {}
                              },
                              {
                                "name": "totalSize",
                                "type": "long",
                                "nullable": false,
                                "metadata": {}
                              }
                            ]
                          },
                          "nullable": true,
                          "metadata": {}
                        },
                        {
                          "name": "partitionsOptimized",
                          "type": "long",
                          "nullable": false,
                          "metadata": {}
                        },
                        {
                          "name": "zOrderStats",
                          "type": {
                            "type": "struct",
                            "fields": [
                              {
                                "name": "strategyName",
                                "type": "string",
                                "nullable": true,
                                "metadata": {}
                              },
                              {
                                "name": "inputCubeFiles",
                                "type": {
                                  "type": "struct",
                                  "fields": [
                                    {
                                      "name": "num",
                                      "type": "long",
                                      "nullable": false,
                                      "metadata": {}
                                    },
                                    {
                                      "name": "size",
                                      "type": "long",
                                      "nullable": false,
                                      "metadata": {}
                                    }
                                  ]
                                },
                                "nullable": true,
                                "metadata": {}
                              },
                              {
                                "name": "inputOtherFiles",
                                "type": {
                                  "type": "struct",
                                  "fields": [
                                    {
                                      "name": "num",
                                      "type": "long",
                                      "nullable": false,
                                      "metadata": {}
                                    },
                                    {
                                      "name": "size",
                                      "type": "long",
                                      "nullable": false,
                                      "metadata": {}
                                    }
                                  ]
                                },
                                "nullable": true,
                                "metadata": {}
                              },
                              {
                                "name": "inputNumCubes",
                                "type": "long",
                                "nullable": false,
                                "metadata": {}
                              },
                              {
                                "name": "mergedFiles",
                                "type": {
                                  "type": "struct",
                                  "fields": [
                                    {
                                      "name": "num",
                                      "type": "long",
                                      "nullable": false,
                                      "metadata": {}
                                    },
                                    {
                                      "name": "size",
                                      "type": "long",
                                      "nullable": false,
                                      "metadata": {}
                                    }
                                  ]
                                },
                                "nullable": true,
                                "metadata": {}
                              },
                              {
                                "name": "numOutputCubes",
                                "type": "long",
                                "nullable": false,
                                "metadata": {}
                              },
                              {
                                "name": "mergedNumCubes",
                                "type": "long",
                                "nullable": true,
                                "metadata": {}
                              }
                            ]
                          },
                          "nullable": true,
                          "metadata": {}
                        },
                        {
                          "name": "numBatches",
                          "type": "long",
                          "nullable": false,
                          "metadata": {}
                        },
                        {
                          "name": "totalConsideredFiles",
                          "type": "long",
                          "nullable": false,
                          "metadata": {}
                        },
                        {
                          "name": "totalFilesSkipped",
                          "type": "long",
                          "nullable": false,
                          "metadata": {}
                        },
                        {
                          "name": "preserveInsertionOrder",
                          "type": "boolean",
                          "nullable": false,
                          "metadata": {}
                        },
                        {
                          "name": "numFilesSkippedToReduceWriteAmplification",
                          "type": "long",
                          "nullable": false,
                          "metadata": {}
                        },
                        {
                          "name": "numBytesSkippedToReduceWriteAmplification",
                          "type": "long",
                          "nullable": false,
                          "metadata": {}
                        },
                        {
                          "name": "startTimeMs",
                          "type": "long",
                          "nullable": false,
                          "metadata": {}
                        },
                        {
                          "name": "endTimeMs",
                          "type": "long",
                          "nullable": false,
                          "metadata": {}
                        },
                        {
                          "name": "totalClusterParallelism",
                          "type": "long",
                          "nullable": false,
                          "metadata": {}
                        },
                        {
                          "name": "totalScheduledTasks",
                          "type": "long",
                          "nullable": false,
                          "metadata": {}
                        },
                        {
                          "name": "autoCompactParallelismStats",
                          "type": {
                            "type": "struct",
                            "fields": [
                              {
                                "name": "maxClusterActiveParallelism",
                                "type": "long",
                                "nullable": true,
                                "metadata": {}
                              },
                              {
                                "name": "minClusterActiveParallelism",
                                "type": "long",
                                "nullable": true,
                                "metadata": {}
                              },
                              {
                                "name": "maxSessionActiveParallelism",
                                "type": "long",
                                "nullable": true,
                                "metadata": {}
                              },
                              {
                                "name": "minSessionActiveParallelism",
                                "type": "long",
                                "nullable": true,
                                "metadata": {}
                              }
                            ]
                          },
                          "nullable": true,
                          "metadata": {}
                        }
                      ]
                    },
                    "nullable": true,
                    "metadata": {}
                  }
                ]
              },
              "data": [
                [
                  "abfss://project@projectsynapsestorage.dfs.core.windows.net/synapse/workspaces/projectsynapse/warehouse/delta.db/optimizetable",
                  {
                    "schema": [
                      {
                        "name": "numFilesAdded",
                        "dataType": {},
                        "nullable": false,
                        "metadata": {
                          "map": {}
                        }
                      },
                      {
                        "name": "numFilesRemoved",
                        "dataType": {},
                        "nullable": false,
                        "metadata": {
                          "map": {}
                        }
                      },
                      {
                        "name": "filesAdded",
                        "dataType": [
                          {
                            "name": "min",
                            "dataType": {},
                            "nullable": true,
                            "metadata": {
                              "map": {}
                            }
                          },
                          {
                            "name": "max",
                            "dataType": {},
                            "nullable": true,
                            "metadata": {
                              "map": {}
                            }
                          },
                          {
                            "name": "avg",
                            "dataType": {},
                            "nullable": false,
                            "metadata": {
                              "map": {}
                            }
                          },
                          {
                            "name": "totalFiles",
                            "dataType": {},
                            "nullable": false,
                            "metadata": {
                              "map": {}
                            }
                          },
                          {
                            "name": "totalSize",
                            "dataType": {},
                            "nullable": false,
                            "metadata": {
                              "map": {}
                            }
                          }
                        ],
                        "nullable": true,
                        "metadata": {
                          "map": {}
                        }
                      },
                      {
                        "name": "filesRemoved",
                        "dataType": [
                          {
                            "name": "min",
                            "dataType": {},
                            "nullable": true,
                            "metadata": {
                              "map": {}
                            }
                          },
                          {
                            "name": "max",
                            "dataType": {},
                            "nullable": true,
                            "metadata": {
                              "map": {}
                            }
                          },
                          {
                            "name": "avg",
                            "dataType": {},
                            "nullable": false,
                            "metadata": {
                              "map": {}
                            }
                          },
                          {
                            "name": "totalFiles",
                            "dataType": {},
                            "nullable": false,
                            "metadata": {
                              "map": {}
                            }
                          },
                          {
                            "name": "totalSize",
                            "dataType": {},
                            "nullable": false,
                            "metadata": {
                              "map": {}
                            }
                          }
                        ],
                        "nullable": true,
                        "metadata": {
                          "map": {}
                        }
                      },
                      {
                        "name": "partitionsOptimized",
                        "dataType": {},
                        "nullable": false,
                        "metadata": {
                          "map": {}
                        }
                      },
                      {
                        "name": "zOrderStats",
                        "dataType": [
                          {
                            "name": "strategyName",
                            "dataType": {},
                            "nullable": true,
                            "metadata": {
                              "map": {}
                            }
                          },
                          {
                            "name": "inputCubeFiles",
                            "dataType": [
                              {
                                "name": "num",
                                "dataType": {},
                                "nullable": false,
                                "metadata": {
                                  "map": {}
                                }
                              },
                              {
                                "name": "size",
                                "dataType": {},
                                "nullable": false,
                                "metadata": {
                                  "map": {}
                                }
                              }
                            ],
                            "nullable": true,
                            "metadata": {
                              "map": {}
                            }
                          },
                          {
                            "name": "inputOtherFiles",
                            "dataType": [
                              {
                                "name": "num",
                                "dataType": {},
                                "nullable": false,
                                "metadata": {
                                  "map": {}
                                }
                              },
                              {
                                "name": "size",
                                "dataType": {},
                                "nullable": false,
                                "metadata": {
                                  "map": {}
                                }
                              }
                            ],
                            "nullable": true,
                            "metadata": {
                              "map": {}
                            }
                          },
                          {
                            "name": "inputNumCubes",
                            "dataType": {},
                            "nullable": false,
                            "metadata": {
                              "map": {}
                            }
                          },
                          {
                            "name": "mergedFiles",
                            "dataType": [
                              {
                                "name": "num",
                                "dataType": {},
                                "nullable": false,
                                "metadata": {
                                  "map": {}
                                }
                              },
                              {
                                "name": "size",
                                "dataType": {},
                                "nullable": false,
                                "metadata": {
                                  "map": {}
                                }
                              }
                            ],
                            "nullable": true,
                            "metadata": {
                              "map": {}
                            }
                          },
                          {
                            "name": "numOutputCubes",
                            "dataType": {},
                            "nullable": false,
                            "metadata": {
                              "map": {}
                            }
                          },
                          {
                            "name": "mergedNumCubes",
                            "dataType": {},
                            "nullable": true,
                            "metadata": {
                              "map": {}
                            }
                          }
                        ],
                        "nullable": true,
                        "metadata": {
                          "map": {}
                        }
                      },
                      {
                        "name": "numBatches",
                        "dataType": {},
                        "nullable": false,
                        "metadata": {
                          "map": {}
                        }
                      },
                      {
                        "name": "totalConsideredFiles",
                        "dataType": {},
                        "nullable": false,
                        "metadata": {
                          "map": {}
                        }
                      },
                      {
                        "name": "totalFilesSkipped",
                        "dataType": {},
                        "nullable": false,
                        "metadata": {
                          "map": {}
                        }
                      },
                      {
                        "name": "preserveInsertionOrder",
                        "dataType": {},
                        "nullable": false,
                        "metadata": {
                          "map": {}
                        }
                      },
                      {
                        "name": "numFilesSkippedToReduceWriteAmplification",
                        "dataType": {},
                        "nullable": false,
                        "metadata": {
                          "map": {}
                        }
                      },
                      {
                        "name": "numBytesSkippedToReduceWriteAmplification",
                        "dataType": {},
                        "nullable": false,
                        "metadata": {
                          "map": {}
                        }
                      },
                      {
                        "name": "startTimeMs",
                        "dataType": {},
                        "nullable": false,
                        "metadata": {
                          "map": {}
                        }
                      },
                      {
                        "name": "endTimeMs",
                        "dataType": {},
                        "nullable": false,
                        "metadata": {
                          "map": {}
                        }
                      },
                      {
                        "name": "totalClusterParallelism",
                        "dataType": {},
                        "nullable": false,
                        "metadata": {
                          "map": {}
                        }
                      },
                      {
                        "name": "totalScheduledTasks",
                        "dataType": {},
                        "nullable": false,
                        "metadata": {
                          "map": {}
                        }
                      },
                      {
                        "name": "autoCompactParallelismStats",
                        "dataType": [
                          {
                            "name": "maxClusterActiveParallelism",
                            "dataType": {},
                            "nullable": true,
                            "metadata": {
                              "map": {}
                            }
                          },
                          {
                            "name": "minClusterActiveParallelism",
                            "dataType": {},
                            "nullable": true,
                            "metadata": {
                              "map": {}
                            }
                          },
                          {
                            "name": "maxSessionActiveParallelism",
                            "dataType": {},
                            "nullable": true,
                            "metadata": {
                              "map": {}
                            }
                          },
                          {
                            "name": "minSessionActiveParallelism",
                            "dataType": {},
                            "nullable": true,
                            "metadata": {
                              "map": {}
                            }
                          }
                        ],
                        "nullable": true,
                        "metadata": {
                          "map": {}
                        }
                      }
                    ],
                    "values": [
                      "1",
                      "2",
                      {
                        "schema": [
                          {
                            "name": "min",
                            "dataType": {},
                            "nullable": true,
                            "metadata": {
                              "map": {}
                            }
                          },
                          {
                            "name": "max",
                            "dataType": {},
                            "nullable": true,
                            "metadata": {
                              "map": {}
                            }
                          },
                          {
                            "name": "avg",
                            "dataType": {},
                            "nullable": false,
                            "metadata": {
                              "map": {}
                            }
                          },
                          {
                            "name": "totalFiles",
                            "dataType": {},
                            "nullable": false,
                            "metadata": {
                              "map": {}
                            }
                          },
                          {
                            "name": "totalSize",
                            "dataType": {},
                            "nullable": false,
                            "metadata": {
                              "map": {}
                            }
                          }
                        ],
                        "values": [
                          "4435",
                          "4435",
                          4435,
                          "1",
                          "4435"
                        ]
                      },
                      {
                        "schema": [
                          {
                            "name": "min",
                            "dataType": {},
                            "nullable": true,
                            "metadata": {
                              "map": {}
                            }
                          },
                          {
                            "name": "max",
                            "dataType": {},
                            "nullable": true,
                            "metadata": {
                              "map": {}
                            }
                          },
                          {
                            "name": "avg",
                            "dataType": {},
                            "nullable": false,
                            "metadata": {
                              "map": {}
                            }
                          },
                          {
                            "name": "totalFiles",
                            "dataType": {},
                            "nullable": false,
                            "metadata": {
                              "map": {}
                            }
                          },
                          {
                            "name": "totalSize",
                            "dataType": {},
                            "nullable": false,
                            "metadata": {
                              "map": {}
                            }
                          }
                        ],
                        "values": [
                          "4074",
                          "4242",
                          4158,
                          "2",
                          "8316"
                        ]
                      },
                      "1",
                      null,
                      "1",
                      "2",
                      "0",
                      false,
                      "0",
                      "0",
                      "1690867027974",
                      "0",
                      "8",
                      "0",
                      null
                    ]
                  }
                ]
              ]
            },
            "text/plain": "<Spark SQL result set with 1 rows and 2 fields>"
          },
          "execution_count": 8,
          "metadata": {}
        }
      ],
      "metadata": {
        "jupyter": {
          "source_hidden": false,
          "outputs_hidden": false
        },
        "nteract": {
          "transient": {
            "deleting": false
          }
        },
        "microsoft": {
          "language": "sparksql"
        },
        "collapsed": false
      },
      "source": [
        "%%sql\r\n",
        "OPTIMIZE delta.OptimizeTable"
      ]
    },
    {
      "cell_type": "code",
      "execution_count": 9,
      "outputs": [
        {
          "output_type": "display_data",
          "data": {
            "application/vnd.livy.statement-meta+json": {
              "spark_pool": "SmallSpark",
              "session_id": "69",
              "statement_id": 11,
              "state": "finished",
              "livy_statement_state": "available",
              "queued_time": "2023-08-01T05:18:48.9185097Z",
              "session_start_time": null,
              "execution_start_time": "2023-08-01T05:18:49.0532511Z",
              "execution_finish_time": "2023-08-01T05:18:50.2368887Z",
              "spark_jobs": null,
              "parent_msg_id": "77385502-a401-4734-a04f-4d1eebbeca6d"
            },
            "text/plain": "StatementMeta(SmallSpark, 69, 11, Finished, Available)"
          },
          "metadata": {}
        },
        {
          "output_type": "stream",
          "name": "stdout",
          "text": "+-----------------------------------------------------------------------------------------------------------------------------------------------------------------------------------------------------------------------------------------------------------------------------------------------------------------------------------------------------------------------------------------------------------------------------------------------------------------------------------------------------------------------------------------------------------------------------------------------------------------------------------------------------------------------------------------------------------------------------------------------------------------------------------------------------------------------------------------------------------------------------------------------------------------------------------------------------------------------------------------------------------------------------------------------------------------------------------------------------------------------------------------------------------------------------------------------------------------------------------------------------+\n|value                                                                                                                                                                                                                                                                                                                                                                                                                                                                                                                                                                                                                                                                                                                                                                                                                                                                                                                                                                                                                                                                                                                                                                                                                                                |\n+-----------------------------------------------------------------------------------------------------------------------------------------------------------------------------------------------------------------------------------------------------------------------------------------------------------------------------------------------------------------------------------------------------------------------------------------------------------------------------------------------------------------------------------------------------------------------------------------------------------------------------------------------------------------------------------------------------------------------------------------------------------------------------------------------------------------------------------------------------------------------------------------------------------------------------------------------------------------------------------------------------------------------------------------------------------------------------------------------------------------------------------------------------------------------------------------------------------------------------------------------------+\n|{\"commitInfo\":{\"timestamp\":1690867025477,\"operation\":\"OPTIMIZE\",\"operationParameters\":{\"predicate\":\"[]\",\"auto\":false,\"zOrderBy\":\"[]\"},\"readVersion\":5,\"isolationLevel\":\"SnapshotIsolation\",\"isBlindAppend\":false,\"operationMetrics\":{\"numRemovedFiles\":\"2\",\"numRemovedBytes\":\"8316\",\"p25FileSize\":\"4435\",\"minFileSize\":\"4435\",\"numAddedFiles\":\"1\",\"maxFileSize\":\"4435\",\"p75FileSize\":\"4435\",\"p50FileSize\":\"4435\",\"numAddedBytes\":\"4435\"},\"engineInfo\":\"Apache-Spark/3.3.1.5.2-92314920 Delta-Lake/2.2.0.6\",\"txnId\":\"af1cc0fb-b2f7-44e1-a09b-9ae948ec83de\"}}                                                                                                                                                                                                                                                                                                                                                                                                                                                                                                                                                                                                                                                                                          |\n|{\"add\":{\"path\":\"part-00000-e65a217d-9811-4ea8-809b-48bdb837e663-c000.snappy.parquet\",\"partitionValues\":{},\"size\":4435,\"modificationTime\":1690867025420,\"dataChange\":false,\"stats\":\"{\\\"numRecords\\\":2,\\\"minValues\\\":{\\\"Education_Level\\\":\\\"Bachelor\\\",\\\"Line_Number\\\":99,\\\"Year\\\":2023,\\\"Month\\\":7,\\\"State\\\":\\\"CA\\\",\\\"Labor_Force\\\":5000,\\\"Employed\\\":4500,\\\"Unemployed\\\":500,\\\"Industry\\\":\\\"Networking\\\",\\\"Gender\\\":\\\"Female\\\",\\\"Date_Inserted\\\":\\\"2023-07-12\\\",\\\"UnEmployed_Rate_Percentage\\\":8.2,\\\"Min_Salary_USD\\\":40000.0,\\\"Max_Salary_USD\\\":60000.0,\\\"dense_rank\\\":1},\\\"maxValues\\\":{\\\"Education_Level\\\":\\\"Master\\\",\\\"Line_Number\\\":100,\\\"Year\\\":2023,\\\"Month\\\":7,\\\"State\\\":\\\"NY\\\",\\\"Labor_Force\\\":7000,\\\"Employed\\\":6500,\\\"Unemployed\\\":500,\\\"Industry\\\":\\\"Networking\\\",\\\"Gender\\\":\\\"Male\\\",\\\"Date_Inserted\\\":\\\"2023-07-12\\\",\\\"UnEmployed_Rate_Percentage\\\":10.5,\\\"Min_Salary_USD\\\":50000.0,\\\"Max_Salary_USD\\\":80000.0,\\\"dense_rank\\\":3},\\\"nullCount\\\":{\\\"Education_Level\\\":0,\\\"Line_Number\\\":0,\\\"Year\\\":0,\\\"Month\\\":0,\\\"State\\\":0,\\\"Labor_Force\\\":0,\\\"Employed\\\":0,\\\"Unemployed\\\":0,\\\"Industry\\\":0,\\\"Gender\\\":0,\\\"Date_Inserted\\\":0,\\\"UnEmployed_Rate_Percentage\\\":0,\\\"Min_Salary_USD\\\":0,\\\"Max_Salary_USD\\\":0,\\\"dense_rank\\\":0}}\",\"tags\":{}}}|\n|{\"remove\":{\"path\":\"part-00000-12711143-4793-4fdf-8c51-9a6418b91171-c000.snappy.parquet\",\"deletionTimestamp\":1690867023085,\"dataChange\":false,\"extendedFileMetadata\":true,\"partitionValues\":{},\"size\":4074,\"tags\":{}}}                                                                                                                                                                                                                                                                                                                                                                                                                                                                                                                                                                                                                                                                                                                                                                                                                                                                                                                                                                                                                                |\n|{\"remove\":{\"path\":\"part-00000-1218c966-61ba-4e32-931e-b16629b72c22-c000.snappy.parquet\",\"deletionTimestamp\":1690867023085,\"dataChange\":false,\"extendedFileMetadata\":true,\"partitionValues\":{},\"size\":4242,\"tags\":{}}}                                                                                                                                                                                                                                                                                                                                                                                                                                                                                                                                                                                                                                                                                                                                                                                                                                                                                                                                                                                                                                |\n+-----------------------------------------------------------------------------------------------------------------------------------------------------------------------------------------------------------------------------------------------------------------------------------------------------------------------------------------------------------------------------------------------------------------------------------------------------------------------------------------------------------------------------------------------------------------------------------------------------------------------------------------------------------------------------------------------------------------------------------------------------------------------------------------------------------------------------------------------------------------------------------------------------------------------------------------------------------------------------------------------------------------------------------------------------------------------------------------------------------------------------------------------------------------------------------------------------------------------------------------------------+\n\n"
        }
      ],
      "metadata": {
        "jupyter": {
          "source_hidden": false,
          "outputs_hidden": true
        },
        "nteract": {
          "transient": {
            "deleting": false
          }
        }
      },
      "source": [
        "(spark.read.format('text').load('abfss://project@projectsynapsestorage.dfs.core.windows.net/synapse/workspaces/projectsynapse/warehouse/delta.db/optimizetable/_delta_log/00000000000000000006.json')).show(truncate=False)"
      ]
    },
    {
      "cell_type": "markdown",
      "metadata": {
        "nteract": {
          "transient": {
            "deleting": false
          }
        }
      },
      "source": [
        "|{\"**commitInfo**\":{\"timestamp\":1690867025477,**\"operation\":\"OPTIMIZE\"**,\"operationParameters\":{\"predicate\":\"[]\",\"auto\":false,\"zOrderBy\":\"[]\"},\"readVersion\":5,\"isolationLevel\":\"SnapshotIsolation\",\"isBlindAppend\":false,\"operationMetrics\":**{\"numRemovedFiles\":\"2\"**,\"numRemovedBytes\":\"8316\",\"p25FileSize\":\"4435\",\"minFileSize\":\"4435\",\"numAddedFiles\":\"1\",\"maxFileSize\":\"4435\",\"p75FileSize\":\"4435\",\"p50FileSize\":\"4435\",\"numAddedBytes\":\"4435\"},\"engineInfo\":\"Apache-Spark/3.3.1.5.2-92314920 Delta-Lake/2.2.0.6\",\"txnId\":\"af1cc0fb-b2f7-44e1-a09b-9ae948ec83de\"}}                                                                                                                                                                                                                                                                                                                                                              <br>                            <br>                                                                                                                                                                                                                                                                                                    |\r\n",
        "|**{\"add\":**{\"path\":\"part-00000-e65a217d-9811-4ea8-809b**-48bdb837e663-c000.snappy.parque**t\",\"partitionValues\":{},\"size\":4435,\"modificationTime\":1690867025420,\"dataChange\":false,\"stats\":\"{\\\"numRecords\\\":2,\\\"minValues\\\":{\\\"Education_Level\\\":\\\"Bachelor\\\",\\\"Line_Number\\\":99,\\\"Year\\\":2023,\\\"Month\\\":7,\\\"State\\\":\\\"CA\\\",\\\"Labor_Force\\\":5000,\\\"Employed\\\":4500,\\\"Unemployed\\\":500,\\\"Industry\\\":\\\"Networking\\\",\\\"Gender\\\":\\\"Female\\\",\\\"Date_Inserted\\\":\\\"2023-07-12\\\",\\\"UnEmployed_Rate_Percentage\\\":8.2,\\\"Min_Salary_USD\\\":40000.0,\\\"Max_Salary_USD\\\":60000.0,\\\"dense_rank\\\":1},\\\"maxValues\\\":{\\\"Education_Level\\\":\\\"Master\\\",\\\"Line_Number\\\":100,\\\"Year\\\":2023,\\\"Month\\\":7,\\\"State\\\":\\\"NY\\\",\\\"Labor_Force\\\":7000,\\\"Employed\\\":6500,\\\"Unemployed\\\":500,\\\"Industry\\\":\\\"Networking\\\",\\\"Gender\\\":\\\"Male\\\",\\\"Date_Inserted\\\":\\\"2023-07-12\\\",\\\"UnEmployed_Rate_Percentage\\\":10.5,\\\"Min_Salary_USD\\\":50000.0,\\\"Max_Salary_USD\\\":80000.0,\\\"dense_rank\\\":3},\\\"nullCount\\\":{\\\"Education_Level\\\":0,\\\"Line_Number\\\":0,\\\"Year\\\":0,\\\"Month\\\":0,\\\"State\\\":0,\\\"Labor_Force\\\":0,\\\"Employed\\\":0,\\\"Unemployed\\\":0,\\\"Industry\\\":0,\\\"Gender\\\":0,\\\"Date_Inserted\\\":0,\\\"UnEmployed_Rate_Percentage\\\":0,\\\"Min_Salary_USD\\\":0,\\\"Max_Salary_USD\\\":0,\\\"dense_rank\\\":0}}\",\"tags\":{}}}|\r\n",
        "\r\n",
        "<br>\r\n",
        "|**{\"remove\":**{\"path\":\"part-00000-12711143-4793-4fdf-8c51-9**a6418b91171-c000.snappy.parquet\"**,\"deletionTimestamp\":1690867023085,\"dataChange\":false,\"extendedFileMetadata\":true,\"partitionValues\":{},\"size\":4074,\"tags\":{}}}                                                                                                                                                                                                                                                                                                                                                                                                                                                                                                                                                                                                     <br>    <br>                                                                                                                                                                                                                                                                                                                                                                                                                               |\r\n",
        "|**{\"remove\":**{\"path\":\"part-00000-1218c966-61ba-4e32-931e-b16**629b72c22-c000.snappy.parquet**\",\"deletionTimestamp\":1690867023085,\"dataChange\":false,\"extendedFileMetadata\":true,\"partitionValues\":{},\"size\":4242,\"tags\":{}}}                         "
      ]
    },
    {
      "cell_type": "code",
      "execution_count": 10,
      "outputs": [
        {
          "output_type": "display_data",
          "data": {
            "application/vnd.livy.statement-meta+json": {
              "spark_pool": "SmallSpark",
              "session_id": "69",
              "statement_id": 12,
              "state": "finished",
              "livy_statement_state": "available",
              "queued_time": "2023-08-01T05:23:41.1421941Z",
              "session_start_time": null,
              "execution_start_time": "2023-08-01T05:23:41.3151342Z",
              "execution_finish_time": "2023-08-01T05:23:45.8331699Z",
              "spark_jobs": null,
              "parent_msg_id": "83439e36-eabd-49c4-bfbd-0c3cec2d5f8e"
            },
            "text/plain": "StatementMeta(SmallSpark, 69, 12, Finished, Available)"
          },
          "metadata": {}
        },
        {
          "output_type": "execute_result",
          "data": {
            "application/vnd.synapse.sparksql-result+json": {
              "schema": {
                "type": "struct",
                "fields": [
                  {
                    "name": "version",
                    "type": "long",
                    "nullable": true,
                    "metadata": {}
                  },
                  {
                    "name": "timestamp",
                    "type": "timestamp",
                    "nullable": true,
                    "metadata": {}
                  },
                  {
                    "name": "userId",
                    "type": "string",
                    "nullable": true,
                    "metadata": {}
                  },
                  {
                    "name": "userName",
                    "type": "string",
                    "nullable": true,
                    "metadata": {}
                  },
                  {
                    "name": "operation",
                    "type": "string",
                    "nullable": true,
                    "metadata": {}
                  },
                  {
                    "name": "operationParameters",
                    "type": {
                      "type": "map",
                      "keyType": "string",
                      "valueType": "string",
                      "valueContainsNull": true
                    },
                    "nullable": true,
                    "metadata": {}
                  },
                  {
                    "name": "job",
                    "type": {
                      "type": "struct",
                      "fields": [
                        {
                          "name": "jobId",
                          "type": "string",
                          "nullable": true,
                          "metadata": {}
                        },
                        {
                          "name": "jobName",
                          "type": "string",
                          "nullable": true,
                          "metadata": {}
                        },
                        {
                          "name": "runId",
                          "type": "string",
                          "nullable": true,
                          "metadata": {}
                        },
                        {
                          "name": "jobOwnerId",
                          "type": "string",
                          "nullable": true,
                          "metadata": {}
                        },
                        {
                          "name": "triggerType",
                          "type": "string",
                          "nullable": true,
                          "metadata": {}
                        }
                      ]
                    },
                    "nullable": true,
                    "metadata": {}
                  },
                  {
                    "name": "notebook",
                    "type": {
                      "type": "struct",
                      "fields": [
                        {
                          "name": "notebookId",
                          "type": "string",
                          "nullable": true,
                          "metadata": {}
                        }
                      ]
                    },
                    "nullable": true,
                    "metadata": {}
                  },
                  {
                    "name": "clusterId",
                    "type": "string",
                    "nullable": true,
                    "metadata": {}
                  },
                  {
                    "name": "readVersion",
                    "type": "long",
                    "nullable": true,
                    "metadata": {}
                  },
                  {
                    "name": "isolationLevel",
                    "type": "string",
                    "nullable": true,
                    "metadata": {}
                  },
                  {
                    "name": "isBlindAppend",
                    "type": "boolean",
                    "nullable": true,
                    "metadata": {}
                  },
                  {
                    "name": "operationMetrics",
                    "type": {
                      "type": "map",
                      "keyType": "string",
                      "valueType": "string",
                      "valueContainsNull": true
                    },
                    "nullable": true,
                    "metadata": {}
                  },
                  {
                    "name": "userMetadata",
                    "type": "string",
                    "nullable": true,
                    "metadata": {}
                  },
                  {
                    "name": "engineInfo",
                    "type": "string",
                    "nullable": true,
                    "metadata": {}
                  }
                ]
              },
              "data": [
                [
                  "6",
                  "2023-08-01T05:17:05Z",
                  null,
                  null,
                  "OPTIMIZE",
                  {
                    "predicate": "[]",
                    "auto": "false",
                    "zOrderBy": "[]"
                  },
                  null,
                  null,
                  null,
                  "5",
                  "SnapshotIsolation",
                  false,
                  {
                    "numRemovedFiles": "2",
                    "numRemovedBytes": "8316",
                    "p25FileSize": "4435",
                    "minFileSize": "4435",
                    "numAddedFiles": "1",
                    "maxFileSize": "4435",
                    "p75FileSize": "4435",
                    "p50FileSize": "4435",
                    "numAddedBytes": "4435"
                  },
                  null,
                  "Apache-Spark/3.3.1.5.2-92314920 Delta-Lake/2.2.0.6"
                ],
                [
                  "5",
                  "2023-08-01T05:13:56Z",
                  null,
                  null,
                  "UPDATE",
                  {
                    "predicate": "(Line_Number#2571 = 102)"
                  },
                  null,
                  null,
                  null,
                  "4",
                  "Serializable",
                  false,
                  {
                    "numRemovedFiles": "1",
                    "numCopiedRows": "0",
                    "numAddedChangeFiles": "0",
                    "executionTimeMs": "3590",
                    "scanTimeMs": "2362",
                    "numAddedFiles": "1",
                    "numUpdatedRows": "1",
                    "rewriteTimeMs": "1226"
                  },
                  null,
                  "Apache-Spark/3.3.1.5.2-92314920 Delta-Lake/2.2.0.6"
                ],
                [
                  "4",
                  "2023-08-01T05:09:40Z",
                  null,
                  null,
                  "DELETE",
                  {
                    "predicate": "[\"(spark_catalog.delta.OptimizeTable.Line_Number = 101)\"]"
                  },
                  null,
                  null,
                  null,
                  "3",
                  "Serializable",
                  false,
                  {
                    "numRemovedFiles": "1",
                    "numCopiedRows": "0",
                    "numAddedChangeFiles": "0",
                    "executionTimeMs": "5621",
                    "numDeletedRows": "1",
                    "scanTimeMs": "4486",
                    "numAddedFiles": "0",
                    "rewriteTimeMs": "1134"
                  },
                  null,
                  "Apache-Spark/3.3.1.5.2-92314920 Delta-Lake/2.2.0.6"
                ],
                [
                  "3",
                  "2023-08-01T05:07:53Z",
                  null,
                  null,
                  "WRITE",
                  {
                    "mode": "Append",
                    "partitionBy": "[]"
                  },
                  null,
                  null,
                  null,
                  "2",
                  "Serializable",
                  true,
                  {
                    "numFiles": "1",
                    "numOutputRows": "1",
                    "numOutputBytes": "4240"
                  },
                  null,
                  "Apache-Spark/3.3.1.5.2-92314920 Delta-Lake/2.2.0.6"
                ],
                [
                  "2",
                  "2023-08-01T05:06:52Z",
                  null,
                  null,
                  "WRITE",
                  {
                    "mode": "Append",
                    "partitionBy": "[]"
                  },
                  null,
                  null,
                  null,
                  "1",
                  "Serializable",
                  true,
                  {
                    "numFiles": "1",
                    "numOutputRows": "1",
                    "numOutputBytes": "4242"
                  },
                  null,
                  "Apache-Spark/3.3.1.5.2-92314920 Delta-Lake/2.2.0.6"
                ],
                [
                  "1",
                  "2023-08-01T05:05:17Z",
                  null,
                  null,
                  "WRITE",
                  {
                    "mode": "Append",
                    "partitionBy": "[]"
                  },
                  null,
                  null,
                  null,
                  "0",
                  "Serializable",
                  true,
                  {
                    "numFiles": "1",
                    "numOutputRows": "1",
                    "numOutputBytes": "4242"
                  },
                  null,
                  "Apache-Spark/3.3.1.5.2-92314920 Delta-Lake/2.2.0.6"
                ],
                [
                  "0",
                  "2023-08-01T05:01:54Z",
                  null,
                  null,
                  "CREATE TABLE",
                  {
                    "isManaged": "true",
                    "description": null,
                    "partitionBy": "[]",
                    "properties": "{}"
                  },
                  null,
                  null,
                  null,
                  null,
                  "Serializable",
                  true,
                  {},
                  null,
                  "Apache-Spark/3.3.1.5.2-92314920 Delta-Lake/2.2.0.6"
                ]
              ]
            },
            "text/plain": "<Spark SQL result set with 7 rows and 15 fields>"
          },
          "execution_count": 10,
          "metadata": {}
        }
      ],
      "metadata": {
        "jupyter": {
          "source_hidden": false,
          "outputs_hidden": false
        },
        "nteract": {
          "transient": {
            "deleting": false
          }
        },
        "microsoft": {
          "language": "sparksql"
        },
        "collapsed": false
      },
      "source": [
        "%%sql\r\n",
        "\r\n",
        "DESCRIBE HISTORY delta.OptimizeTable"
      ]
    },
    {
      "cell_type": "code",
      "execution_count": 11,
      "outputs": [
        {
          "output_type": "display_data",
          "data": {
            "application/vnd.livy.statement-meta+json": {
              "spark_pool": "SmallSpark",
              "session_id": "69",
              "statement_id": 13,
              "state": "finished",
              "livy_statement_state": "available",
              "queued_time": "2023-08-01T05:24:49.8270533Z",
              "session_start_time": null,
              "execution_start_time": "2023-08-01T05:24:49.9999768Z",
              "execution_finish_time": "2023-08-01T05:24:55.3188543Z",
              "spark_jobs": null,
              "parent_msg_id": "7f4d32da-445f-42f6-948b-fd24b3207a37"
            },
            "text/plain": "StatementMeta(SmallSpark, 69, 13, Finished, Available)"
          },
          "metadata": {}
        },
        {
          "output_type": "execute_result",
          "data": {
            "application/vnd.synapse.sparksql-result+json": {
              "schema": {
                "type": "struct",
                "fields": [
                  {
                    "name": "Education_Level",
                    "type": "string",
                    "nullable": true,
                    "metadata": {
                      "__CHAR_VARCHAR_TYPE_STRING": "varchar(50)"
                    }
                  },
                  {
                    "name": "Line_Number",
                    "type": "integer",
                    "nullable": true,
                    "metadata": {}
                  },
                  {
                    "name": "Year",
                    "type": "integer",
                    "nullable": true,
                    "metadata": {}
                  },
                  {
                    "name": "Month",
                    "type": "integer",
                    "nullable": true,
                    "metadata": {}
                  },
                  {
                    "name": "State",
                    "type": "string",
                    "nullable": true,
                    "metadata": {
                      "__CHAR_VARCHAR_TYPE_STRING": "varchar(5)"
                    }
                  },
                  {
                    "name": "Labor_Force",
                    "type": "integer",
                    "nullable": true,
                    "metadata": {}
                  },
                  {
                    "name": "Employed",
                    "type": "integer",
                    "nullable": true,
                    "metadata": {}
                  },
                  {
                    "name": "Unemployed",
                    "type": "integer",
                    "nullable": true,
                    "metadata": {}
                  },
                  {
                    "name": "Industry",
                    "type": "string",
                    "nullable": true,
                    "metadata": {
                      "__CHAR_VARCHAR_TYPE_STRING": "varchar(50)"
                    }
                  },
                  {
                    "name": "Gender",
                    "type": "string",
                    "nullable": true,
                    "metadata": {
                      "__CHAR_VARCHAR_TYPE_STRING": "varchar(10)"
                    }
                  },
                  {
                    "name": "Date_Inserted",
                    "type": "date",
                    "nullable": true,
                    "metadata": {}
                  },
                  {
                    "name": "UnEmployed_Rate_Percentage",
                    "type": "double",
                    "nullable": true,
                    "metadata": {}
                  },
                  {
                    "name": "Min_Salary_USD",
                    "type": "double",
                    "nullable": true,
                    "metadata": {}
                  },
                  {
                    "name": "Max_Salary_USD",
                    "type": "double",
                    "nullable": true,
                    "metadata": {}
                  },
                  {
                    "name": "dense_rank",
                    "type": "integer",
                    "nullable": true,
                    "metadata": {}
                  }
                ]
              },
              "data": [
                [
                  "Bachelor",
                  100,
                  2023,
                  7,
                  "NY",
                  5000,
                  4500,
                  500,
                  "Networking",
                  "Male",
                  "2023-07-12",
                  10.5,
                  40000,
                  60000,
                  1
                ],
                [
                  "Master",
                  102,
                  2023,
                  7,
                  "CA",
                  7000,
                  6500,
                  500,
                  "Networking",
                  "Female",
                  "2023-07-12",
                  8.2,
                  50000,
                  80000,
                  3
                ]
              ]
            },
            "text/plain": "<Spark SQL result set with 2 rows and 15 fields>"
          },
          "execution_count": 11,
          "metadata": {}
        }
      ],
      "metadata": {
        "jupyter": {
          "source_hidden": false,
          "outputs_hidden": false
        },
        "nteract": {
          "transient": {
            "deleting": false
          }
        },
        "microsoft": {
          "language": "sparksql"
        },
        "collapsed": false
      },
      "source": [
        "%%sql\r\n",
        "SELECT *\r\n",
        "FROM delta.OptimizeTable VERSION AS OF 4"
      ]
    }
  ],
  "metadata": {
    "description": null,
    "save_output": true,
    "kernelspec": {
      "name": "synapse_pyspark",
      "display_name": "Synapse PySpark"
    },
    "language_info": {
      "name": "python"
    },
    "synapse_widget": {
      "version": "0.1",
      "state": {}
    }
  }
}