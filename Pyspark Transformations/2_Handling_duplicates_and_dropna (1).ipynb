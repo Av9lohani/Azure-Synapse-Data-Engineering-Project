{
  "nbformat": 4,
  "nbformat_minor": 2,
  "cells": [
    {
      "cell_type": "code",
      "execution_count": 2,
      "outputs": [],
      "metadata": {},
      "source": [
        "sc"
      ]
    },
    {
      "cell_type": "code",
      "execution_count": 3,
      "outputs": [],
      "metadata": {
        "jupyter": {
          "source_hidden": false,
          "outputs_hidden": false
        },
        "nteract": {
          "transient": {
            "deleting": false
          }
        }
      },
      "source": [
        "# Reading parquet file\r\n",
        "\r\n",
        "df = spark.read.format('parquet').load('abfss://refined@projectsynapsestorage.dfs.core.windows.net/ExtNew/E69C5259-86B9-4B9F-85DA-AB181EF11BD0_47_0-1.parquet')"
      ]
    },
    {
      "cell_type": "code",
      "execution_count": 4,
      "outputs": [],
      "metadata": {
        "jupyter": {
          "source_hidden": false,
          "outputs_hidden": false
        },
        "nteract": {
          "transient": {
            "deleting": false
          }
        },
        "collapsed": false
      },
      "source": [
        "display(df)"
      ]
    },
    {
      "cell_type": "code",
      "execution_count": 5,
      "outputs": [],
      "metadata": {
        "jupyter": {
          "source_hidden": false,
          "outputs_hidden": false
        },
        "nteract": {
          "transient": {
            "deleting": false
          }
        }
      },
      "source": [
        "# Get all columns into a variable\r\n",
        "\r\n",
        "AllColumns = df.schema.names\r\n",
        "\r\n",
        "print(AllColumns)"
      ]
    },
    {
      "cell_type": "code",
      "execution_count": 6,
      "outputs": [],
      "metadata": {
        "jupyter": {
          "source_hidden": false,
          "outputs_hidden": false
        },
        "nteract": {
          "transient": {
            "deleting": false
          }
        }
      },
      "source": [
        "for column in AllColumns:\r\n",
        "    nullCount = df.filter(df[column].isNull()).count()\r\n",
        "    if(nullCount > 0):\r\n",
        "        print('Null Count in '+ column + ' - ' + str(nullCount))"
      ]
    },
    {
      "cell_type": "code",
      "execution_count": 7,
      "outputs": [],
      "metadata": {
        "jupyter": {
          "source_hidden": false,
          "outputs_hidden": false
        },
        "nteract": {
          "transient": {
            "deleting": false
          }
        }
      },
      "source": [
        "# Group by aggregation\r\n",
        "# To know total employed citizens based on gender\r\n",
        "\r\n",
        "print('To know total employed citizens based on gender')\r\n",
        "df.groupBy('Gender').sum('Employed').show()\r\n",
        "\r\n",
        "#2 Applying multiply aggregtion susing agg()\r\n",
        "\r\n",
        "print('Applying multiply aggregtion susing agg()')\r\n",
        "from pyspark.sql.functions import sum,avg\r\n",
        "df.groupBy('Gender').agg(sum('Employed'), avg('Employed')).show()"
      ]
    },
    {
      "cell_type": "code",
      "execution_count": 8,
      "outputs": [],
      "metadata": {
        "jupyter": {
          "source_hidden": false,
          "outputs_hidden": false
        },
        "nteract": {
          "transient": {
            "deleting": false
          }
        }
      },
      "source": [
        "# Find duplicate row count using group by\r\n",
        "from pyspark.sql.functions import col\r\n",
        "\r\n",
        "print('Find duplicate row count using group by')\r\n",
        "\r\n",
        "df.groupBy('Line Number','Year').count().filter(col('count')>1).show()"
      ]
    },
    {
      "cell_type": "code",
      "execution_count": 9,
      "outputs": [],
      "metadata": {
        "jupyter": {
          "source_hidden": false,
          "outputs_hidden": false
        },
        "nteract": {
          "transient": {
            "deleting": false
          }
        }
      },
      "source": [
        "df.filter((col('Line Number').isNull() & (col('Year').isNull()))).show()"
      ]
    },
    {
      "cell_type": "code",
      "execution_count": 10,
      "outputs": [],
      "metadata": {
        "jupyter": {
          "source_hidden": false,
          "outputs_hidden": false
        },
        "nteract": {
          "transient": {
            "deleting": false
          }
        }
      },
      "source": [
        "# Using Drop duplicates to handle duplicate rows\r\n",
        "\r\n",
        "print('# Using Drop duplicates to handle duplicate rows')\r\n",
        "\r\n",
        "df_nodups = df.drop_duplicates()"
      ]
    },
    {
      "cell_type": "code",
      "execution_count": 11,
      "outputs": [],
      "metadata": {
        "jupyter": {
          "source_hidden": false,
          "outputs_hidden": false
        },
        "nteract": {
          "transient": {
            "deleting": false
          }
        }
      },
      "source": [
        "df_nodups.groupBy('Line Number','Year').count().filter(col('count')>1).show()"
      ]
    },
    {
      "cell_type": "code",
      "execution_count": 12,
      "outputs": [],
      "metadata": {
        "jupyter": {
          "source_hidden": false,
          "outputs_hidden": false
        },
        "nteract": {
          "transient": {
            "deleting": false
          }
        }
      },
      "source": [
        "df_nodups.filter((col('Line Number').isNull() & (col('Year').isNull()))).show()"
      ]
    },
    {
      "cell_type": "code",
      "execution_count": 13,
      "outputs": [],
      "metadata": {
        "jupyter": {
          "source_hidden": false,
          "outputs_hidden": false
        },
        "nteract": {
          "transient": {
            "deleting": false
          }
        }
      },
      "source": [
        "# Using Dropna \r\n",
        "print('Using Dropna ')\r\n",
        "\r\n",
        "df_all = df_nodups.dropna(how='all')"
      ]
    },
    {
      "cell_type": "code",
      "execution_count": 14,
      "outputs": [],
      "metadata": {
        "jupyter": {
          "source_hidden": false,
          "outputs_hidden": false
        },
        "nteract": {
          "transient": {
            "deleting": false
          }
        }
      },
      "source": [
        "df_all.filter((col('Line Number').isNull() & (col('Year').isNull()))).show()"
      ]
    },
    {
      "cell_type": "code",
      "execution_count": 15,
      "outputs": [],
      "metadata": {
        "jupyter": {
          "source_hidden": false,
          "outputs_hidden": false
        },
        "nteract": {
          "transient": {
            "deleting": false
          }
        }
      },
      "source": [
        "for column in AllColumns:\r\n",
        "    nullCount = df_all.filter(df[column].isNull()).count()\r\n",
        "    if(nullCount > 0):\r\n",
        "        print('Null Count in '+ column + ' - ' + str(nullCount))"
      ]
    },
    {
      "cell_type": "code",
      "execution_count": 16,
      "outputs": [],
      "metadata": {
        "jupyter": {
          "source_hidden": false,
          "outputs_hidden": false
        },
        "nteract": {
          "transient": {
            "deleting": false
          }
        }
      },
      "source": [
        "# Replacing the NUL values with unknown\r\n",
        "\r\n",
        "print('Replacing the NUL values with unknown FOR ALL COLUMNS')\r\n",
        "\r\n",
        "df_clean = df_all.fillna('unknown')"
      ]
    },
    {
      "cell_type": "code",
      "execution_count": 17,
      "outputs": [],
      "metadata": {
        "jupyter": {
          "source_hidden": false,
          "outputs_hidden": false
        },
        "nteract": {
          "transient": {
            "deleting": false
          }
        }
      },
      "source": [
        "for column in AllColumns:\r\n",
        "    nullCount = df_clean.filter(df_clean[column].isNull()).count()\r\n",
        "    print('Null Count in '+ column + ' - ' + str(nullCount))"
      ]
    },
    {
      "cell_type": "code",
      "execution_count": 18,
      "outputs": [],
      "metadata": {
        "jupyter": {
          "source_hidden": false,
          "outputs_hidden": false
        },
        "nteract": {
          "transient": {
            "deleting": false
          }
        }
      },
      "source": [
        "# Writing the data to a location \r\n",
        "\r\n",
        "df_clean.write.format('parquet')\\\r\n",
        "             .mode('overwrite')\\\r\n",
        "             .save('abfss://refined@projectsynapsestorage.dfs.core.windows.net/NoNulls/')"
      ]
    }
  ],
  "metadata": {
    "description": null,
    "save_output": true,
    "kernelspec": {
      "name": "synapse_pyspark",
      "display_name": "Synapse PySpark"
    },
    "language_info": {
      "name": "python"
    }
  }
}