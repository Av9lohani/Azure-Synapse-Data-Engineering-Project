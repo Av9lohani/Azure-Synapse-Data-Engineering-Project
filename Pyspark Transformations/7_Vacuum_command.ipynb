{
  "nbformat": 4,
  "nbformat_minor": 2,
  "cells": [
    {
      "cell_type": "markdown",
      "metadata": {
        "nteract": {
          "transient": {
            "deleting": false
          }
        }
      },
      "source": [
        "# Vacuum command"
      ]
    },
    {
      "cell_type": "code",
      "execution_count": 39,
      "outputs": [],
      "metadata": {
        "jupyter": {
          "source_hidden": false,
          "outputs_hidden": false
        },
        "nteract": {
          "transient": {
            "deleting": false
          }
        }
      },
      "source": [
        "from pyspark.sql.types import StructType,StructField, StringType, IntegerType,DateType,FloatType,DoubleType\r\n",
        "\r\n",
        "schema1 = StructType([\r\n",
        "    StructField('Education_Level',StringType()),\r\n",
        "    StructField('Line_Number',IntegerType()),\r\n",
        "    StructField('Year',IntegerType()),\r\n",
        "    StructField('Month',StringType()),\r\n",
        "    StructField('State',StringType()),\r\n",
        "    StructField('Labor_Force',IntegerType()),\r\n",
        "    StructField('Employed',IntegerType()),\r\n",
        "    StructField('Unemployed',IntegerType()),\r\n",
        "    StructField('Industry',StringType()),\r\n",
        "    StructField('Gender',StringType()),\r\n",
        "    StructField('Date_Inserted',StringType()),\r\n",
        "    StructField('UnEmployed_Rate_Percentage',DoubleType()),\r\n",
        "    StructField('Min_Salary_USD',IntegerType()),\r\n",
        "    StructField('Max_Salary_USD',IntegerType()),\r\n",
        "    StructField('dense_rank',IntegerType())\r\n",
        "])"
      ]
    },
    {
      "cell_type": "code",
      "execution_count": 40,
      "outputs": [],
      "metadata": {
        "jupyter": {
          "source_hidden": false,
          "outputs_hidden": false
        },
        "nteract": {
          "transient": {
            "deleting": false
          }
        }
      },
      "source": [
        "df = spark.read.format('csv')\\\r\n",
        "               .option('header','true')\\\r\n",
        "               .schema(schema1)\\\r\n",
        "               .load('abfss://delta@projectsynapsestorage.dfs.core.windows.net/Required Files/SchemaManagementDelta.csv')"
      ]
    },
    {
      "cell_type": "code",
      "execution_count": 38,
      "outputs": [],
      "metadata": {
        "jupyter": {
          "source_hidden": false,
          "outputs_hidden": false
        },
        "nteract": {
          "transient": {
            "deleting": false
          }
        }
      },
      "source": [
        "df.printSchema()"
      ]
    },
    {
      "cell_type": "code",
      "execution_count": 41,
      "outputs": [],
      "metadata": {
        "jupyter": {
          "source_hidden": false,
          "outputs_hidden": false
        },
        "nteract": {
          "transient": {
            "deleting": false
          }
        }
      },
      "source": [
        "df.createOrReplaceTempView('df_view')"
      ]
    },
    {
      "cell_type": "code",
      "execution_count": 42,
      "outputs": [],
      "metadata": {
        "jupyter": {
          "source_hidden": false,
          "outputs_hidden": false
        },
        "nteract": {
          "transient": {
            "deleting": false
          }
        },
        "microsoft": {
          "language": "sparksql"
        },
        "collapsed": false
      },
      "source": [
        "%%sql\r\n",
        "-- Lets create a delta table\r\n",
        "\r\n",
        "CREATE TABLE delta.VacTable\r\n",
        "USING DELTA\r\n",
        "AS\r\n",
        "SELECT *\r\n",
        "FROM df_view"
      ]
    },
    {
      "cell_type": "markdown",
      "metadata": {
        "nteract": {
          "transient": {
            "deleting": false
          }
        }
      },
      "source": [
        "#### Inserts"
      ]
    },
    {
      "cell_type": "code",
      "execution_count": 43,
      "outputs": [],
      "metadata": {
        "jupyter": {
          "source_hidden": false,
          "outputs_hidden": false
        },
        "nteract": {
          "transient": {
            "deleting": false
          }
        },
        "microsoft": {
          "language": "sparksql"
        },
        "collapsed": false
      },
      "source": [
        "%%sql\r\n",
        "-- Lets do some INSERTS, UPDATES and DELETES on table\r\n",
        "\r\n",
        "INSERT INTO delta.VacTable\r\n",
        "VALUES\r\n",
        "    ('Bachelor', 1, 2023, 7, 'NY', 5000, 4500, 500, 'Networking', 'Male', '2023-07-12', 10.5, 40000, 60000, 1),\r\n",
        "    ('Master', 2, 2023, 7, 'CA', 7000, 6500, 500, 'Networking', 'Female', '2023-07-12', 8.2, 50000, 80000, 2),\r\n",
        "    ('High School', 3, 2023, 7, 'TX', 4000, 3500, 500, 'Networking', 'Male', '2023-07-12', 12.1, 30000, 40000, 3),\r\n",
        "    ('PhD', 4, 2023, 7, 'FL', 6000, 5500, 500, 'Networking', 'Female', '2023-07-12', 7.9, 60000, 90000, 4);"
      ]
    },
    {
      "cell_type": "markdown",
      "metadata": {
        "nteract": {
          "transient": {
            "deleting": false
          }
        }
      },
      "source": [
        "##### Updates and deletes"
      ]
    },
    {
      "cell_type": "code",
      "execution_count": 44,
      "outputs": [],
      "metadata": {
        "jupyter": {
          "source_hidden": false,
          "outputs_hidden": false
        },
        "nteract": {
          "transient": {
            "deleting": false
          }
        },
        "microsoft": {
          "language": "sparksql"
        },
        "collapsed": false
      },
      "source": [
        "%%sql\r\n",
        "-- Perform updates and delete\r\n",
        "\r\n",
        "UPDATE delta.VacTable\r\n",
        "SET Education_Level = 'Phd'\r\n",
        "WHERE Industry = 'Networking';\r\n",
        "\r\n",
        "\r\n",
        "DELETE FROM delta.VacTable\r\n",
        "WHERE Education_Level = 'Phd';\r\n",
        "\r\n",
        ""
      ]
    },
    {
      "cell_type": "code",
      "execution_count": 45,
      "outputs": [],
      "metadata": {
        "jupyter": {
          "source_hidden": false,
          "outputs_hidden": false
        },
        "nteract": {
          "transient": {
            "deleting": false
          }
        },
        "microsoft": {
          "language": "sparksql"
        },
        "collapsed": false
      },
      "source": [
        "%%sql\r\n",
        "\r\n",
        "DESCRIBE HISTORY delta.vactable"
      ]
    },
    {
      "cell_type": "code",
      "execution_count": 46,
      "outputs": [],
      "metadata": {
        "jupyter": {
          "source_hidden": false,
          "outputs_hidden": false
        },
        "nteract": {
          "transient": {
            "deleting": false
          }
        },
        "microsoft": {
          "language": "sparksql"
        },
        "collapsed": false
      },
      "source": [
        "%%sql\r\n",
        "\r\n",
        "-- This will give list of first 1000 files that will be deleted\r\n",
        "-- This will not actually delete it will just show what will be deleted\r\n",
        "VACUUM delta.vactable DRY RUN"
      ]
    },
    {
      "cell_type": "code",
      "execution_count": 47,
      "outputs": [],
      "metadata": {
        "jupyter": {
          "source_hidden": false,
          "outputs_hidden": false
        },
        "nteract": {
          "transient": {
            "deleting": false
          }
        },
        "microsoft": {
          "language": "sparksql"
        }
      },
      "source": [
        "%%sql \r\n",
        "\r\n",
        "-- Change retention for less than 7 days using RETAIN\r\n",
        "\r\n",
        "VACUUM delta.vactable RETAIN 5 HOURS"
      ]
    },
    {
      "cell_type": "code",
      "execution_count": 48,
      "outputs": [],
      "metadata": {
        "jupyter": {
          "source_hidden": false,
          "outputs_hidden": false
        },
        "nteract": {
          "transient": {
            "deleting": false
          }
        }
      },
      "source": [
        "spark.conf.set('spark.databricks.delta.retentionDurationCheck.enabled','False')"
      ]
    },
    {
      "cell_type": "code",
      "execution_count": 49,
      "outputs": [],
      "metadata": {
        "jupyter": {
          "source_hidden": false,
          "outputs_hidden": false
        },
        "nteract": {
          "transient": {
            "deleting": false
          }
        },
        "microsoft": {
          "language": "sparksql"
        },
        "collapsed": false
      },
      "source": [
        "%%sql \r\n",
        "\r\n",
        "-- Change retention for less than 7 days using RETAIN\r\n",
        "\r\n",
        "VACUUM delta.vactable RETAIN 5 HOURS"
      ]
    },
    {
      "cell_type": "code",
      "execution_count": 50,
      "outputs": [],
      "metadata": {
        "jupyter": {
          "source_hidden": false,
          "outputs_hidden": false
        },
        "nteract": {
          "transient": {
            "deleting": false
          }
        },
        "microsoft": {
          "language": "sparksql"
        },
        "collapsed": false
      },
      "source": [
        "%%sql\r\n",
        "\r\n",
        "DESCRIBE HISTORY delta.vactable"
      ]
    },
    {
      "cell_type": "code",
      "execution_count": 51,
      "outputs": [],
      "metadata": {
        "jupyter": {
          "source_hidden": false,
          "outputs_hidden": false
        },
        "nteract": {
          "transient": {
            "deleting": false
          }
        },
        "microsoft": {
          "language": "sparksql"
        },
        "collapsed": false
      },
      "source": [
        "%%sql \r\n",
        "\r\n",
        "\r\n",
        "VACUUM delta.vactable RETAIN 0 HOURS"
      ]
    },
    {
      "cell_type": "code",
      "execution_count": 52,
      "outputs": [],
      "metadata": {
        "jupyter": {
          "source_hidden": false,
          "outputs_hidden": false
        },
        "nteract": {
          "transient": {
            "deleting": false
          }
        },
        "microsoft": {
          "language": "sparksql"
        },
        "collapsed": false
      },
      "source": [
        "%%sql\r\n",
        "\r\n",
        "DESCRIBE HISTORY delta.vactable"
      ]
    }
  ],
  "metadata": {
    "description": null,
    "save_output": true,
    "kernelspec": {
      "name": "synapse_pyspark",
      "display_name": "Synapse PySpark"
    },
    "language_info": {
      "name": "python"
    }
  }
}