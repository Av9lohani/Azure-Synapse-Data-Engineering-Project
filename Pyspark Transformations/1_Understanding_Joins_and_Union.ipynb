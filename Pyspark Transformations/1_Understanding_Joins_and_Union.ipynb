{
  "nbformat": 4,
  "nbformat_minor": 2,
  "metadata": {
    "kernelspec": {
      "name": "synapse_pyspark",
      "display_name": "Synapse PySpark"
    },
    "language_info": {
      "name": "python"
    },
    "description": null,
    "save_output": true,
    "synapse_widget": {
      "version": "0.1",
      "state": {}
    }
  },
  "cells": [
    {
      "cell_type": "code",
      "execution_count": 2,
      "outputs": [
        {
          "output_type": "display_data",
          "data": {
            "application/vnd.livy.statement-meta+json": {
              "spark_pool": "SmallSpark",
              "session_id": "37",
              "statement_id": 3,
              "state": "finished",
              "livy_statement_state": "available",
              "queued_time": "2023-07-26T06:04:14.6514101Z",
              "session_start_time": null,
              "execution_start_time": "2023-07-26T06:04:14.8082098Z",
              "execution_finish_time": "2023-07-26T06:04:36.1212997Z",
              "spark_jobs": null,
              "parent_msg_id": "99a4aa10-824a-48cc-b462-dfb7c9bbd44b"
            },
            "text/plain": "StatementMeta(SmallSpark, 37, 3, Finished, Available)"
          },
          "metadata": {}
        },
        {
          "output_type": "display_data",
          "data": {
            "application/vnd.synapse.mssparkutilsrun-result+json": {
              "run_id": "7d8e2287-2640-4074-b99a-07f7cd7d2afd",
              "in_pipeline": false,
              "notebook_name": "6 - Mount configuration",
              "snapshot_path": "/runNotebookApi/versions/1/run/7d8e2287-2640-4074-b99a-07f7cd7d2afd/snapshot",
              "error": null,
              "session_id": "37",
              "spark_pool": "SmallSpark",
              "capacity_id": null,
              "workspace_id": null,
              "root_artifact_id": null,
              "artifact_id": null
            }
          },
          "metadata": {}
        },
        {
          "output_type": "execute_result",
          "data": {
            "text/plain": "'[MountPointInfo(mountPoint=/lake, source=abfss://refined@projectsynapsestorage.dfs.core.windows.net/, linkedService=storage, scope=job)]'"
          },
          "execution_count": 7,
          "metadata": {}
        }
      ],
      "metadata": {
        "jupyter": {
          "source_hidden": false,
          "outputs_hidden": false
        },
        "nteract": {
          "transient": {
            "deleting": false
          }
        }
      },
      "source": [
        "mssparkutils.notebook.run('4 - MSSpark Utilities/6 - Mount configuration')"
      ]
    },
    {
      "cell_type": "code",
      "execution_count": 3,
      "outputs": [
        {
          "output_type": "display_data",
          "data": {
            "application/vnd.livy.statement-meta+json": {
              "spark_pool": "SmallSpark",
              "session_id": "37",
              "statement_id": 4,
              "state": "finished",
              "livy_statement_state": "available",
              "queued_time": "2023-07-26T06:04:16.4284739Z",
              "session_start_time": null,
              "execution_start_time": "2023-07-26T06:04:36.3520259Z",
              "execution_finish_time": "2023-07-26T06:04:36.555561Z",
              "spark_jobs": null,
              "parent_msg_id": "7d9b9ec4-1392-4ce2-97cf-f09d2645dd49"
            },
            "text/plain": "StatementMeta(SmallSpark, 37, 4, Finished, Available)"
          },
          "metadata": {}
        }
      ],
      "metadata": {
        "jupyter": {
          "source_hidden": false,
          "outputs_hidden": false
        },
        "nteract": {
          "transient": {
            "deleting": false
          }
        }
      },
      "source": [
        "## - Accessing the Files from Mountpoint \r\n",
        "## Syntax:\r\n",
        "# synfs:/<jobid>/<mountpoint>/<path>\r\n",
        "# To get JobID - mssparkutils.env.getJobId()\r\n",
        "\r\n",
        "\r\n",
        "job_id = mssparkutils.env.getJobId()\r\n",
        "\r\n",
        "mount_point = 'synfs:/' + job_id + '/lake'"
      ]
    },
    {
      "cell_type": "code",
      "execution_count": 4,
      "outputs": [
        {
          "output_type": "display_data",
          "data": {
            "application/vnd.livy.statement-meta+json": {
              "spark_pool": "SmallSpark",
              "session_id": "37",
              "statement_id": 5,
              "state": "finished",
              "livy_statement_state": "available",
              "queued_time": "2023-07-26T06:08:01.6835787Z",
              "session_start_time": null,
              "execution_start_time": "2023-07-26T06:08:01.8590866Z",
              "execution_finish_time": "2023-07-26T06:08:29.1407139Z",
              "spark_jobs": null,
              "parent_msg_id": "b3671501-1cc1-46de-b2cb-3878927ed36f"
            },
            "text/plain": "StatementMeta(SmallSpark, 37, 5, Finished, Available)"
          },
          "metadata": {}
        }
      ],
      "metadata": {
        "jupyter": {
          "source_hidden": false,
          "outputs_hidden": false
        },
        "nteract": {
          "transient": {
            "deleting": false
          }
        }
      },
      "source": [
        "# Reading left dataframe - Education Details.csv \r\n",
        "\r\n",
        "df_ed = spark.read.format('csv')\\\r\n",
        "                .option('header','true')\\\r\n",
        "                .load(mount_point+'/For Joins/For Understanding Joins/Education Details.csv')"
      ]
    },
    {
      "cell_type": "code",
      "execution_count": 5,
      "outputs": [
        {
          "output_type": "display_data",
          "data": {
            "application/vnd.livy.statement-meta+json": {
              "spark_pool": "SmallSpark",
              "session_id": "37",
              "statement_id": 6,
              "state": "finished",
              "livy_statement_state": "available",
              "queued_time": "2023-07-26T06:08:48.7979942Z",
              "session_start_time": null,
              "execution_start_time": "2023-07-26T06:08:48.9408801Z",
              "execution_finish_time": "2023-07-26T06:09:05.9022125Z",
              "spark_jobs": null,
              "parent_msg_id": "4db4d8b6-0c99-457c-a7d3-2fcc371efa6c"
            },
            "text/plain": "StatementMeta(SmallSpark, 37, 6, Finished, Available)"
          },
          "metadata": {}
        }
      ],
      "metadata": {
        "jupyter": {
          "source_hidden": false,
          "outputs_hidden": false
        },
        "nteract": {
          "transient": {
            "deleting": false
          }
        }
      },
      "source": [
        "# Reading left dataframe - Salary Details.csv \r\n",
        "\r\n",
        "df_sal = spark.read.format('csv')\\\r\n",
        "                .option('header','true')\\\r\n",
        "                .load(mount_point+'/For Joins/For Understanding Joins/Salary Details.csv')"
      ]
    },
    {
      "cell_type": "code",
      "execution_count": 6,
      "outputs": [
        {
          "output_type": "display_data",
          "data": {
            "application/vnd.livy.statement-meta+json": {
              "spark_pool": "SmallSpark",
              "session_id": "37",
              "statement_id": 7,
              "state": "finished",
              "livy_statement_state": "available",
              "queued_time": "2023-07-26T06:10:09.9202134Z",
              "session_start_time": null,
              "execution_start_time": "2023-07-26T06:10:10.0783382Z",
              "execution_finish_time": "2023-07-26T06:10:12.0130772Z",
              "spark_jobs": null,
              "parent_msg_id": "99d85599-e163-4486-a359-62e47f8c3dd6"
            },
            "text/plain": "StatementMeta(SmallSpark, 37, 7, Finished, Available)"
          },
          "metadata": {}
        },
        {
          "output_type": "stream",
          "name": "stdout",
          "text": [
            "Seeing content of Education Details: \n+---+-----+-------------------+\n| ID|State|    Education Level|\n+---+-----+-------------------+\n|  1|   CA|        High School|\n|  2|   CA|    Master's Degree|\n|  3|   CA|  Bachelor's Degree|\n|  4|   CA|High School Diploma|\n|  5|   CA|           Graduate|\n|  6|   CA|            College|\n+---+-----+-------------------+\n\nSeeing content of Salary Details: \n+-------------------+----------------------------+\n|    Education Level|Expected Salary Range in USD|\n+-------------------+----------------------------+\n|        High School|               50000 - 70000|\n|  Bachelor's Degree|              80000 - 120000|\n|High School Diploma|               50000 - 70000|\n| Associate's Degree|               60000 - 90000|\n|          Doctorate|             120000 - 200000|\n|           Graduate|              70000 - 100000|\n|            College|              70000 - 100000|\n|                Phd|               140000-250000|\n+-------------------+----------------------------+\n\n"
          ]
        }
      ],
      "metadata": {
        "jupyter": {
          "source_hidden": false,
          "outputs_hidden": false
        },
        "nteract": {
          "transient": {
            "deleting": false
          }
        }
      },
      "source": [
        "#  Viewing the content of both dataframes\r\n",
        "\r\n",
        "print('Seeing content of Education Details: ')\r\n",
        "df_ed.show()\r\n",
        "print('Seeing content of Salary Details: ')\r\n",
        "df_sal.show()"
      ]
    },
    {
      "cell_type": "markdown",
      "metadata": {
        "nteract": {
          "transient": {
            "deleting": false
          }
        }
      },
      "source": [
        "# Inner join"
      ]
    },
    {
      "cell_type": "code",
      "execution_count": 7,
      "outputs": [
        {
          "output_type": "display_data",
          "data": {
            "application/vnd.livy.statement-meta+json": {
              "spark_pool": "SmallSpark",
              "session_id": "37",
              "statement_id": 8,
              "state": "finished",
              "livy_statement_state": "available",
              "queued_time": "2023-07-26T06:15:09.2605832Z",
              "session_start_time": null,
              "execution_start_time": "2023-07-26T06:15:09.4255496Z",
              "execution_finish_time": "2023-07-26T06:15:12.3767965Z",
              "spark_jobs": null,
              "parent_msg_id": "a8904db5-2aea-4cc0-a24d-634544978315"
            },
            "text/plain": "StatementMeta(SmallSpark, 37, 8, Finished, Available)"
          },
          "metadata": {}
        },
        {
          "output_type": "stream",
          "name": "stdout",
          "text": [
            "+-------------------+---+-----+----------------------------+\n|    Education Level| ID|State|Expected Salary Range in USD|\n+-------------------+---+-----+----------------------------+\n|        High School|  1|   CA|               50000 - 70000|\n|  Bachelor's Degree|  3|   CA|              80000 - 120000|\n|High School Diploma|  4|   CA|               50000 - 70000|\n|           Graduate|  5|   CA|              70000 - 100000|\n|            College|  6|   CA|              70000 - 100000|\n+-------------------+---+-----+----------------------------+\n\n"
          ]
        }
      ],
      "metadata": {
        "jupyter": {
          "source_hidden": false,
          "outputs_hidden": false
        },
        "nteract": {
          "transient": {
            "deleting": false
          }
        }
      },
      "source": [
        "#1 - Inner join \r\n",
        "\r\n",
        "df_ed.join(df_sal,on='Education Level',how='inner').show()"
      ]
    },
    {
      "cell_type": "markdown",
      "metadata": {
        "nteract": {
          "transient": {
            "deleting": false
          }
        }
      },
      "source": [
        "# Left join"
      ]
    },
    {
      "cell_type": "code",
      "execution_count": 9,
      "outputs": [
        {
          "output_type": "display_data",
          "data": {
            "application/vnd.livy.statement-meta+json": {
              "spark_pool": "SmallSpark",
              "session_id": "37",
              "statement_id": 10,
              "state": "finished",
              "livy_statement_state": "available",
              "queued_time": "2023-07-26T06:20:22.5109567Z",
              "session_start_time": null,
              "execution_start_time": "2023-07-26T06:20:22.6649439Z",
              "execution_finish_time": "2023-07-26T06:20:24.5839175Z",
              "spark_jobs": null,
              "parent_msg_id": "e4269e27-0584-4238-bb57-e0c082067d76"
            },
            "text/plain": "StatementMeta(SmallSpark, 37, 10, Finished, Available)"
          },
          "metadata": {}
        },
        {
          "output_type": "stream",
          "name": "stdout",
          "text": [
            "+-------------------+---+-----+----------------------------+\n|    Education Level| ID|State|Expected Salary Range in USD|\n+-------------------+---+-----+----------------------------+\n|        High School|  1|   CA|               50000 - 70000|\n|    Master's Degree|  2|   CA|                        null|\n|  Bachelor's Degree|  3|   CA|              80000 - 120000|\n|High School Diploma|  4|   CA|               50000 - 70000|\n|           Graduate|  5|   CA|              70000 - 100000|\n|            College|  6|   CA|              70000 - 100000|\n+-------------------+---+-----+----------------------------+\n\n"
          ]
        }
      ],
      "metadata": {
        "jupyter": {
          "source_hidden": false,
          "outputs_hidden": false
        },
        "nteract": {
          "transient": {
            "deleting": false
          }
        }
      },
      "source": [
        "# 2 - Left join \r\n",
        "\r\n",
        "df_ed.join(df_sal,on='Education Level',how='left' ).show()"
      ]
    },
    {
      "cell_type": "markdown",
      "metadata": {
        "nteract": {
          "transient": {
            "deleting": false
          }
        }
      },
      "source": [
        "# Right join"
      ]
    },
    {
      "cell_type": "code",
      "execution_count": 10,
      "outputs": [
        {
          "output_type": "display_data",
          "data": {
            "application/vnd.livy.statement-meta+json": {
              "spark_pool": "SmallSpark",
              "session_id": "37",
              "statement_id": 11,
              "state": "finished",
              "livy_statement_state": "available",
              "queued_time": "2023-07-26T06:23:50.1353047Z",
              "session_start_time": null,
              "execution_start_time": "2023-07-26T06:23:50.3113804Z",
              "execution_finish_time": "2023-07-26T06:23:52.3024135Z",
              "spark_jobs": null,
              "parent_msg_id": "fb8e0c7b-07f2-4b82-9d7d-8aa53eac8da1"
            },
            "text/plain": "StatementMeta(SmallSpark, 37, 11, Finished, Available)"
          },
          "metadata": {}
        },
        {
          "output_type": "stream",
          "name": "stdout",
          "text": [
            "+-------------------+----+-----+----------------------------+\n|    Education Level|  ID|State|Expected Salary Range in USD|\n+-------------------+----+-----+----------------------------+\n|        High School|   1|   CA|               50000 - 70000|\n|  Bachelor's Degree|   3|   CA|              80000 - 120000|\n|High School Diploma|   4|   CA|               50000 - 70000|\n| Associate's Degree|null| null|               60000 - 90000|\n|          Doctorate|null| null|             120000 - 200000|\n|           Graduate|   5|   CA|              70000 - 100000|\n|            College|   6|   CA|              70000 - 100000|\n|                Phd|null| null|               140000-250000|\n+-------------------+----+-----+----------------------------+\n\n"
          ]
        }
      ],
      "metadata": {
        "jupyter": {
          "source_hidden": false,
          "outputs_hidden": false
        },
        "nteract": {
          "transient": {
            "deleting": false
          }
        }
      },
      "source": [
        "# 3 - Right join \r\n",
        "\r\n",
        "df_ed.join(df_sal,on='Education Level',how='right' ).show()"
      ]
    },
    {
      "cell_type": "markdown",
      "metadata": {
        "nteract": {
          "transient": {
            "deleting": false
          }
        }
      },
      "source": [
        "# Full outer join or Outer join"
      ]
    },
    {
      "cell_type": "code",
      "execution_count": 11,
      "outputs": [
        {
          "output_type": "display_data",
          "data": {
            "application/vnd.livy.statement-meta+json": {
              "spark_pool": "SmallSpark",
              "session_id": "37",
              "statement_id": 12,
              "state": "finished",
              "livy_statement_state": "available",
              "queued_time": "2023-07-26T06:28:50.5478147Z",
              "session_start_time": null,
              "execution_start_time": "2023-07-26T06:28:50.7047179Z",
              "execution_finish_time": "2023-07-26T06:28:54.8165766Z",
              "spark_jobs": null,
              "parent_msg_id": "3348b0d0-7ac6-4710-b206-30b072bfe79f"
            },
            "text/plain": "StatementMeta(SmallSpark, 37, 12, Finished, Available)"
          },
          "metadata": {}
        },
        {
          "output_type": "stream",
          "name": "stdout",
          "text": [
            "+-------------------+----+-----+----------------------------+\n|    Education Level|  ID|State|Expected Salary Range in USD|\n+-------------------+----+-----+----------------------------+\n| Associate's Degree|null| null|               60000 - 90000|\n|  Bachelor's Degree|   3|   CA|              80000 - 120000|\n|            College|   6|   CA|              70000 - 100000|\n|          Doctorate|null| null|             120000 - 200000|\n|           Graduate|   5|   CA|              70000 - 100000|\n|        High School|   1|   CA|               50000 - 70000|\n|High School Diploma|   4|   CA|               50000 - 70000|\n|    Master's Degree|   2|   CA|                        null|\n|                Phd|null| null|               140000-250000|\n+-------------------+----+-----+----------------------------+\n\n"
          ]
        }
      ],
      "metadata": {
        "jupyter": {
          "source_hidden": false,
          "outputs_hidden": false
        },
        "nteract": {
          "transient": {
            "deleting": false
          }
        }
      },
      "source": [
        "#4 - Outer join\r\n",
        "df_ed.join(df_sal,on='Education Level',how='outer' ).show()"
      ]
    },
    {
      "cell_type": "markdown",
      "metadata": {
        "nteract": {
          "transient": {
            "deleting": false
          }
        }
      },
      "source": [
        "# Left Semi Join"
      ]
    },
    {
      "cell_type": "code",
      "execution_count": 12,
      "outputs": [
        {
          "output_type": "display_data",
          "data": {
            "application/vnd.livy.statement-meta+json": {
              "spark_pool": "SmallSpark",
              "session_id": "37",
              "statement_id": 13,
              "state": "finished",
              "livy_statement_state": "available",
              "queued_time": "2023-07-26T06:34:11.2737616Z",
              "session_start_time": null,
              "execution_start_time": "2023-07-26T06:34:11.994301Z",
              "execution_finish_time": "2023-07-26T06:34:13.1394449Z",
              "spark_jobs": null,
              "parent_msg_id": "383fdc1e-2ad6-4510-b619-3c0de213e92c"
            },
            "text/plain": "StatementMeta(SmallSpark, 37, 13, Finished, Available)"
          },
          "metadata": {}
        },
        {
          "output_type": "stream",
          "name": "stdout",
          "text": [
            "+-------------------+---+-----+\n|    Education Level| ID|State|\n+-------------------+---+-----+\n|        High School|  1|   CA|\n|  Bachelor's Degree|  3|   CA|\n|High School Diploma|  4|   CA|\n|           Graduate|  5|   CA|\n|            College|  6|   CA|\n+-------------------+---+-----+\n\n"
          ]
        }
      ],
      "metadata": {
        "jupyter": {
          "source_hidden": false,
          "outputs_hidden": false
        },
        "nteract": {
          "transient": {
            "deleting": false
          }
        }
      },
      "source": [
        "# 5- Left Semi\r\n",
        "\r\n",
        "df_ed.join(df_sal,on='Education Level',how='leftsemi' ).show()"
      ]
    },
    {
      "cell_type": "markdown",
      "metadata": {
        "nteract": {
          "transient": {
            "deleting": false
          }
        }
      },
      "source": [
        "# Left Anti"
      ]
    },
    {
      "cell_type": "code",
      "execution_count": 13,
      "outputs": [
        {
          "output_type": "display_data",
          "data": {
            "application/vnd.livy.statement-meta+json": {
              "spark_pool": "SmallSpark",
              "session_id": "37",
              "statement_id": 14,
              "state": "finished",
              "livy_statement_state": "available",
              "queued_time": "2023-07-26T06:41:07.8988386Z",
              "session_start_time": null,
              "execution_start_time": "2023-07-26T06:41:08.0759162Z",
              "execution_finish_time": "2023-07-26T06:41:09.2165861Z",
              "spark_jobs": null,
              "parent_msg_id": "35e8457b-6255-4b6d-ad36-435bf0a4ded7"
            },
            "text/plain": "StatementMeta(SmallSpark, 37, 14, Finished, Available)"
          },
          "metadata": {}
        },
        {
          "output_type": "stream",
          "name": "stdout",
          "text": [
            "+---------------+---+-----+\n|Education Level| ID|State|\n+---------------+---+-----+\n|Master's Degree|  2|   CA|\n+---------------+---+-----+\n\n"
          ]
        }
      ],
      "metadata": {
        "jupyter": {
          "source_hidden": false,
          "outputs_hidden": false
        },
        "nteract": {
          "transient": {
            "deleting": false
          }
        }
      },
      "source": [
        "#6- Left Anti \r\n",
        "df_ed.join(df_sal,on='Education Level',how='leftanti' ).show()"
      ]
    },
    {
      "cell_type": "markdown",
      "metadata": {
        "nteract": {
          "transient": {
            "deleting": false
          }
        }
      },
      "source": [
        "# Cross"
      ]
    },
    {
      "cell_type": "code",
      "execution_count": 14,
      "outputs": [
        {
          "output_type": "display_data",
          "data": {
            "application/vnd.livy.statement-meta+json": {
              "spark_pool": "SmallSpark",
              "session_id": "37",
              "statement_id": 15,
              "state": "finished",
              "livy_statement_state": "available",
              "queued_time": "2023-07-26T06:43:16.9750482Z",
              "session_start_time": null,
              "execution_start_time": "2023-07-26T06:43:17.1214623Z",
              "execution_finish_time": "2023-07-26T06:43:18.2481045Z",
              "spark_jobs": null,
              "parent_msg_id": "9fdf6e0a-80e4-4557-b08d-afbb636757cf"
            },
            "text/plain": "StatementMeta(SmallSpark, 37, 15, Finished, Available)"
          },
          "metadata": {}
        },
        {
          "output_type": "stream",
          "name": "stdout",
          "text": [
            "+-------------------+---+-----+----------------------------+\n|    Education Level| ID|State|Expected Salary Range in USD|\n+-------------------+---+-----+----------------------------+\n|        High School|  1|   CA|               50000 - 70000|\n|  Bachelor's Degree|  3|   CA|              80000 - 120000|\n|High School Diploma|  4|   CA|               50000 - 70000|\n|           Graduate|  5|   CA|              70000 - 100000|\n|            College|  6|   CA|              70000 - 100000|\n+-------------------+---+-----+----------------------------+\n\n"
          ]
        }
      ],
      "metadata": {
        "jupyter": {
          "source_hidden": false,
          "outputs_hidden": false
        },
        "nteract": {
          "transient": {
            "deleting": false
          }
        }
      },
      "source": [
        "#7- Cross Join\r\n",
        "df_ed.join(df_sal,on='Education Level',how='cross' ).show()"
      ]
    },
    {
      "cell_type": "markdown",
      "metadata": {
        "nteract": {
          "transient": {
            "deleting": false
          }
        }
      },
      "source": [
        "# Union()"
      ]
    },
    {
      "cell_type": "markdown",
      "metadata": {
        "nteract": {
          "transient": {
            "deleting": false
          }
        }
      },
      "source": [
        "##### Criteria -- Schema must be same in both dataframes, column names, Order, DataType"
      ]
    },
    {
      "cell_type": "code",
      "execution_count": 15,
      "outputs": [
        {
          "output_type": "display_data",
          "data": {
            "application/vnd.livy.statement-meta+json": {
              "spark_pool": "SmallSpark",
              "session_id": "37",
              "statement_id": 16,
              "state": "finished",
              "livy_statement_state": "available",
              "queued_time": "2023-07-26T06:48:30.4182234Z",
              "session_start_time": null,
              "execution_start_time": "2023-07-26T06:48:30.6365239Z",
              "execution_finish_time": "2023-07-26T06:48:51.7613569Z",
              "spark_jobs": null,
              "parent_msg_id": "66872249-70b7-4b79-ae34-e0a00c9caf2f"
            },
            "text/plain": "StatementMeta(SmallSpark, 37, 16, Finished, Available)"
          },
          "metadata": {}
        },
        {
          "output_type": "stream",
          "name": "stdout",
          "text": [
            "df1 columns:\n+-----+---+\n| Name|Age|\n+-----+---+\n| John| 25|\n|Alice| 30|\n|  Bob| 35|\n+-----+---+\n\ndf2 columns:\n+-----+---+\n| Name|Age|\n+-----+---+\n|Alice| 30|\n|  Eve| 28|\n|  Bob| 35|\n+-----+---+\n\n"
          ]
        }
      ],
      "metadata": {
        "jupyter": {
          "source_hidden": false,
          "outputs_hidden": false
        },
        "nteract": {
          "transient": {
            "deleting": false
          }
        }
      },
      "source": [
        "# Lets create a sample dataframe for exploring Union()\r\n",
        "data1 = [(\"John\", 25), (\"Alice\", 30), (\"Bob\", 35)]\r\n",
        "columns = [\"Name\", \"Age\"]\r\n",
        "df1 = spark.createDataFrame(data1, columns)\r\n",
        "\r\n",
        "# Creating another dataframe \r\n",
        "data2 = [(\"Alice\", 30), (\"Eve\", 28), (\"Bob\", 35)]\r\n",
        "df2 = spark.createDataFrame(data2, columns)\r\n",
        "\r\n",
        "print('df1 columns:')\r\n",
        "df1.show()\r\n",
        "\r\n",
        "print('df2 columns:')\r\n",
        "df2.show()"
      ]
    },
    {
      "cell_type": "code",
      "execution_count": 16,
      "outputs": [
        {
          "output_type": "display_data",
          "data": {
            "application/vnd.livy.statement-meta+json": {
              "spark_pool": "SmallSpark",
              "session_id": "37",
              "statement_id": 17,
              "state": "finished",
              "livy_statement_state": "available",
              "queued_time": "2023-07-26T06:49:53.6962112Z",
              "session_start_time": null,
              "execution_start_time": "2023-07-26T06:49:53.8523302Z",
              "execution_finish_time": "2023-07-26T06:49:55.8155679Z",
              "spark_jobs": null,
              "parent_msg_id": "de6c1f4f-3f49-4747-b6eb-9285e0ff8f63"
            },
            "text/plain": "StatementMeta(SmallSpark, 37, 17, Finished, Available)"
          },
          "metadata": {}
        },
        {
          "output_type": "stream",
          "name": "stdout",
          "text": [
            "+-----+---+\n| Name|Age|\n+-----+---+\n| John| 25|\n|Alice| 30|\n|  Bob| 35|\n|Alice| 30|\n|  Eve| 28|\n|  Bob| 35|\n+-----+---+\n\n"
          ]
        }
      ],
      "metadata": {
        "jupyter": {
          "source_hidden": false,
          "outputs_hidden": false
        },
        "nteract": {
          "transient": {
            "deleting": false
          }
        }
      },
      "source": [
        "#1 - Union\r\n",
        "\r\n",
        "df1.union(df2).show()"
      ]
    },
    {
      "cell_type": "code",
      "execution_count": null,
      "outputs": [],
      "metadata": {
        "jupyter": {
          "source_hidden": false,
          "outputs_hidden": false
        },
        "nteract": {
          "transient": {
            "deleting": false
          }
        }
      },
      "source": []
    },
    {
      "cell_type": "code",
      "execution_count": null,
      "outputs": [],
      "metadata": {
        "jupyter": {
          "source_hidden": false,
          "outputs_hidden": false
        },
        "nteract": {
          "transient": {
            "deleting": false
          }
        }
      },
      "source": []
    },
    {
      "cell_type": "code",
      "execution_count": null,
      "outputs": [],
      "metadata": {
        "jupyter": {
          "source_hidden": false,
          "outputs_hidden": false
        },
        "nteract": {
          "transient": {
            "deleting": false
          }
        }
      },
      "source": []
    }
  ]
}