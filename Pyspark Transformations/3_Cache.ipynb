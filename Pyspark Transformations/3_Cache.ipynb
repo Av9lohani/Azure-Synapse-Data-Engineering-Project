{
  "nbformat": 4,
  "nbformat_minor": 2,
  "cells": [
    {
      "cell_type": "code",
      "execution_count": 2,
      "outputs": [],
      "metadata": {
        "jupyter": {
          "source_hidden": false,
          "outputs_hidden": false
        },
        "nteract": {
          "transient": {
            "deleting": false
          }
        }
      },
      "source": [
        "# Reading the dataframe\r\n",
        "\r\n",
        "df = spark.read.format('csv')\\\r\n",
        "                .option('header','true')\\\r\n",
        "                .load('abfss://optimization@projectsynapsestorage.dfs.core.windows.net/3. Cache Persist/cache.csv')"
      ]
    },
    {
      "cell_type": "code",
      "execution_count": 3,
      "outputs": [],
      "metadata": {
        "jupyter": {
          "source_hidden": false,
          "outputs_hidden": false
        },
        "nteract": {
          "transient": {
            "deleting": false
          }
        },
        "collapsed": false
      },
      "source": [
        "print('Usign with Column addign a column')\r\n",
        "from pyspark.sql.functions import col\r\n",
        "df_transform = df.withColumn('UnEmployed Rate Percentage',(col('Unemployed')/col('Labor Force'))*100)\r\n",
        "display(df_transform)"
      ]
    },
    {
      "cell_type": "code",
      "execution_count": 5,
      "outputs": [],
      "metadata": {
        "jupyter": {
          "source_hidden": false,
          "outputs_hidden": false
        },
        "nteract": {
          "transient": {
            "deleting": false
          }
        }
      },
      "source": [
        "df_dropped = df_transform.drop('Unemployment Rate')"
      ]
    },
    {
      "cell_type": "code",
      "execution_count": 6,
      "outputs": [],
      "metadata": {
        "jupyter": {
          "source_hidden": false,
          "outputs_hidden": false
        },
        "nteract": {
          "transient": {
            "deleting": false
          }
        }
      },
      "source": [
        "df_dropped.printSchema()"
      ]
    },
    {
      "cell_type": "code",
      "execution_count": 7,
      "outputs": [],
      "metadata": {
        "jupyter": {
          "source_hidden": false,
          "outputs_hidden": false
        },
        "nteract": {
          "transient": {
            "deleting": false
          }
        }
      },
      "source": [
        "from pyspark.sql import functions as F\r\n",
        "\r\n",
        "df_converted = df_dropped.withColumn('Employed',F.col('Employed').cast('Integer'))"
      ]
    },
    {
      "cell_type": "code",
      "execution_count": 11,
      "outputs": [],
      "metadata": {
        "jupyter": {
          "source_hidden": false,
          "outputs_hidden": false
        },
        "nteract": {
          "transient": {
            "deleting": false
          }
        }
      },
      "source": [
        "from datetime import date,datetime\r\n",
        "from pyspark.sql import functions as F\r\n",
        "\r\n",
        "start = datetime.now()\r\n",
        "\r\n",
        "\r\n",
        "# We are just doing a filtering columns where we are having degree\r\n",
        "df_converted.filter(df_converted['Education Level'].contains('degree')).show(n=5)\r\n",
        "\r\n",
        "# Lets do a sorting on same dataframe\r\n",
        "df_converted.orderBy(col('Date Inserted').desc()).show(n=5)\r\n",
        "\r\n",
        "# Lets also do some grouping\r\n",
        "df_converted.groupBy('Gender').agg(F.sum('Employed'), F.avg('Employed')).show(n=5)\r\n",
        "\r\n",
        "\r\n",
        "end = datetime.now()\r\n",
        "\r\n",
        "duration = end-start\r\n",
        "\r\n",
        "print('Notebook executed in ' + str(duration))\r\n",
        ""
      ]
    },
    {
      "cell_type": "code",
      "execution_count": 9,
      "outputs": [],
      "metadata": {
        "jupyter": {
          "source_hidden": false,
          "outputs_hidden": false
        },
        "nteract": {
          "transient": {
            "deleting": false
          }
        }
      },
      "source": [
        "df_converted.cache()"
      ]
    },
    {
      "cell_type": "code",
      "execution_count": 10,
      "outputs": [],
      "metadata": {
        "jupyter": {
          "source_hidden": false,
          "outputs_hidden": false
        },
        "nteract": {
          "transient": {
            "deleting": false
          }
        }
      },
      "source": [
        "df_converted.select('employed','unemployed',col('employed') + col('Unemployed').alias('Total')).show(n=5)\r\n",
        ""
      ]
    },
    {
      "cell_type": "code",
      "execution_count": null,
      "outputs": [],
      "metadata": {
        "jupyter": {
          "source_hidden": false,
          "outputs_hidden": false
        },
        "nteract": {
          "transient": {
            "deleting": false
          }
        }
      },
      "source": [
        ""
      ]
    },
    {
      "cell_type": "code",
      "execution_count": null,
      "outputs": [],
      "metadata": {
        "jupyter": {
          "source_hidden": false,
          "outputs_hidden": false
        },
        "nteract": {
          "transient": {
            "deleting": false
          }
        }
      },
      "source": [
        ""
      ]
    }
  ],
  "metadata": {
    "description": null,
    "save_output": true,
    "kernelspec": {
      "name": "synapse_pyspark",
      "display_name": "Synapse PySpark"
    },
    "language_info": {
      "name": "python"
    }
  }
}